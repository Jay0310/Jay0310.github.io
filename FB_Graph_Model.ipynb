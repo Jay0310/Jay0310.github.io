{
  "nbformat": 4,
  "nbformat_minor": 0,
  "metadata": {
    "colab": {
      "name": "FB Graph Model.ipynb",
      "provenance": [],
      "collapsed_sections": [],
      "include_colab_link": true
    },
    "kernelspec": {
      "name": "python3",
      "display_name": "Python 3"
    },
    "accelerator": "GPU"
  },
  "cells": [
    {
      "cell_type": "markdown",
      "metadata": {
        "id": "view-in-github",
        "colab_type": "text"
      },
      "source": [
        "<a href=\"https://colab.research.google.com/github/Jay0310/Jay0310.github.io/blob/master/FB_Graph_Model.ipynb\" target=\"_parent\"><img src=\"https://colab.research.google.com/assets/colab-badge.svg\" alt=\"Open In Colab\"/></a>"
      ]
    },
    {
      "cell_type": "code",
      "metadata": {
        "id": "MTC15j_Lv6Dk",
        "colab_type": "code",
        "colab": {}
      },
      "source": [
        "import numpy as np\n",
        "import pandas as pd\n",
        "from pandas import Series,DataFrame\n",
        "import seaborn as sns \n",
        "import matplotlib.pyplot as plt\n",
        "import math\n",
        "import os\n",
        "import pickle\n",
        "import csv\n",
        "import datetime\n",
        "from matplotlib import rcParams\n",
        "from sklearn.cluster import MiniBatchKMeans,KMeans\n",
        "import xgboost as xgb\n",
        "import warnings\n",
        "warnings.filterwarnings('ignore')\n",
        "import pdb\n",
        "import networkx as nx\n"
      ],
      "execution_count": 0,
      "outputs": []
    },
    {
      "cell_type": "code",
      "metadata": {
        "id": "tM_vKGj86d8w",
        "colab_type": "code",
        "colab": {
          "base_uri": "https://localhost:8080/",
          "height": 121
        },
        "outputId": "65052322-99d4-46c7-c1c6-5f9f81585ee4"
      },
      "source": [
        "from google.colab import drive\n",
        "drive.mount('/content/drive')"
      ],
      "execution_count": 2,
      "outputs": [
        {
          "output_type": "stream",
          "text": [
            "Go to this URL in a browser: https://accounts.google.com/o/oauth2/auth?client_id=947318989803-6bn6qk8qdgf4n4g3pfee6491hc0brc4i.apps.googleusercontent.com&redirect_uri=urn%3aietf%3awg%3aoauth%3a2.0%3aoob&response_type=code&scope=email%20https%3a%2f%2fwww.googleapis.com%2fauth%2fdocs.test%20https%3a%2f%2fwww.googleapis.com%2fauth%2fdrive%20https%3a%2f%2fwww.googleapis.com%2fauth%2fdrive.photos.readonly%20https%3a%2f%2fwww.googleapis.com%2fauth%2fpeopleapi.readonly\n",
            "\n",
            "Enter your authorization code:\n",
            "··········\n",
            "Mounted at /content/drive\n"
          ],
          "name": "stdout"
        }
      ]
    },
    {
      "cell_type": "code",
      "metadata": {
        "id": "eZL2hxKB6flp",
        "colab_type": "code",
        "colab": {}
      },
      "source": [
        "#Reading a dataframe\n",
        "traincsv=pd.read_csv('/content/drive/My Drive/dataset/Facebook GraphLink/train.csv')"
      ],
      "execution_count": 0,
      "outputs": []
    },
    {
      "cell_type": "code",
      "metadata": {
        "id": "WbOkC23f64o-",
        "colab_type": "code",
        "colab": {
          "base_uri": "https://localhost:8080/",
          "height": 67
        },
        "outputId": "6686e20c-ea3f-453e-95a7-a0d214938f56"
      },
      "source": [
        "traincsv.isnull().any()"
      ],
      "execution_count": 4,
      "outputs": [
        {
          "output_type": "execute_result",
          "data": {
            "text/plain": [
              "source_node         False\n",
              "destination_node    False\n",
              "dtype: bool"
            ]
          },
          "metadata": {
            "tags": []
          },
          "execution_count": 4
        }
      ]
    },
    {
      "cell_type": "code",
      "metadata": {
        "id": "1mHTdnyH7Acv",
        "colab_type": "code",
        "colab": {
          "base_uri": "https://localhost:8080/",
          "height": 134
        },
        "outputId": "dba089a0-b1b5-46f6-a55c-dfe56b4274de"
      },
      "source": [
        "traincsv.info()"
      ],
      "execution_count": 5,
      "outputs": [
        {
          "output_type": "stream",
          "text": [
            "<class 'pandas.core.frame.DataFrame'>\n",
            "RangeIndex: 9437519 entries, 0 to 9437518\n",
            "Data columns (total 2 columns):\n",
            "source_node         int64\n",
            "destination_node    int64\n",
            "dtypes: int64(2)\n",
            "memory usage: 144.0 MB\n"
          ],
          "name": "stdout"
        }
      ]
    },
    {
      "cell_type": "code",
      "metadata": {
        "id": "ukQyH2VJ7DgJ",
        "colab_type": "code",
        "colab": {
          "base_uri": "https://localhost:8080/",
          "height": 34
        },
        "outputId": "f987fce8-0dda-4abe-b605-e1aa9f994772"
      },
      "source": [
        "traincsv.duplicated().sum()"
      ],
      "execution_count": 6,
      "outputs": [
        {
          "output_type": "execute_result",
          "data": {
            "text/plain": [
              "0"
            ]
          },
          "metadata": {
            "tags": []
          },
          "execution_count": 6
        }
      ]
    },
    {
      "cell_type": "code",
      "metadata": {
        "id": "LzjkgJeJ7IlD",
        "colab_type": "code",
        "colab": {}
      },
      "source": [
        "#removing header and saving the file\n",
        "traincsv.to_csv('woheader.csv',header=False,index=False)"
      ],
      "execution_count": 0,
      "outputs": []
    },
    {
      "cell_type": "code",
      "metadata": {
        "id": "qMxQ56pf7b1s",
        "colab_type": "code",
        "colab": {}
      },
      "source": [
        "g=nx.read_edgelist('woheader.csv',delimiter=',',create_using=nx.DiGraph(),nodetype=int)"
      ],
      "execution_count": 0,
      "outputs": []
    },
    {
      "cell_type": "code",
      "metadata": {
        "id": "xyO7kUll7z7t",
        "colab_type": "code",
        "colab": {
          "base_uri": "https://localhost:8080/",
          "height": 118
        },
        "outputId": "131ba904-4aca-4951-925e-6ea0c433f83a"
      },
      "source": [
        "print(nx.info(g))"
      ],
      "execution_count": 9,
      "outputs": [
        {
          "output_type": "stream",
          "text": [
            "Name: \n",
            "Type: DiGraph\n",
            "Number of nodes: 1862220\n",
            "Number of edges: 9437519\n",
            "Average in degree:   5.0679\n",
            "Average out degree:   5.0679\n"
          ],
          "name": "stdout"
        }
      ]
    },
    {
      "cell_type": "code",
      "metadata": {
        "id": "UP7wBi-m8Dx5",
        "colab_type": "code",
        "colab": {
          "base_uri": "https://localhost:8080/",
          "height": 34
        },
        "outputId": "65f7c12f-911d-4ed1-a9c1-862e227ee736"
      },
      "source": [
        "len(g.nodes())"
      ],
      "execution_count": 10,
      "outputs": [
        {
          "output_type": "execute_result",
          "data": {
            "text/plain": [
              "1862220"
            ]
          },
          "metadata": {
            "tags": []
          },
          "execution_count": 10
        }
      ]
    },
    {
      "cell_type": "code",
      "metadata": {
        "id": "opV_GqVd8JSM",
        "colab_type": "code",
        "colab": {
          "base_uri": "https://localhost:8080/",
          "height": 497
        },
        "outputId": "aab7a780-b58e-4255-ef64-1c65d3ee2e82"
      },
      "source": [
        "#Performing EDA\n",
        "in_degree_dist=list(dict(g.in_degree()).values())\n",
        "in_degree_dist.sort()\n",
        "plt.figure(figsize=(12,8))\n",
        "plt.plot(in_degree_dist)\n",
        "plt.xlabel('Index No')\n",
        "plt.ylabel('No of followers')\n",
        "plt.show()"
      ],
      "execution_count": 11,
      "outputs": [
        {
          "output_type": "display_data",
          "data": {
            "image/png": "[encoded data removed]",
            "text/plain": [
              "<Figure size 864x576 with 1 Axes>"
            ]
          },
          "metadata": {
            "tags": []
          }
        }
      ]
    },
    {
      "cell_type": "code",
      "metadata": {
        "id": "0rJ8aNRi8uB_",
        "colab_type": "code",
        "colab": {
          "base_uri": "https://localhost:8080/",
          "height": 497
        },
        "outputId": "6312d305-3c28-45e8-be75-1cd75c9d006f"
      },
      "source": [
        "#Zooming the plot \n",
        "in_degree_dist=list(dict(g.in_degree()).values())\n",
        "in_degree_dist.sort()\n",
        "plt.figure(figsize=(12,8))\n",
        "plt.plot(in_degree_dist[0:1500000])\n",
        "plt.xlabel('Index No')\n",
        "plt.ylabel('No of followers')\n",
        "plt.show()"
      ],
      "execution_count": 12,
      "outputs": [
        {
          "output_type": "display_data",
          "data": {
            "image/png": "[encoded data removed]",
            "text/plain": [
              "<Figure size 864x576 with 1 Axes>"
            ]
          },
          "metadata": {
            "tags": []
          }
        }
      ]
    },
    {
      "cell_type": "code",
      "metadata": {
        "id": "pAG9rhJ49HJ3",
        "colab_type": "code",
        "colab": {
          "base_uri": "https://localhost:8080/",
          "height": 202
        },
        "outputId": "74a44e57-e918-4778-e9b5-2d5fcb40e6b9"
      },
      "source": [
        "#Computing the percentile\n",
        "for i in range(0,11):\n",
        "  print(90+i,'percentile value is ',np.percentile(in_degree_dist,90+i))"
      ],
      "execution_count": 13,
      "outputs": [
        {
          "output_type": "stream",
          "text": [
            "90 percentile value is  12.0\n",
            "91 percentile value is  13.0\n",
            "92 percentile value is  14.0\n",
            "93 percentile value is  15.0\n",
            "94 percentile value is  17.0\n",
            "95 percentile value is  19.0\n",
            "96 percentile value is  21.0\n",
            "97 percentile value is  24.0\n",
            "98 percentile value is  29.0\n",
            "99 percentile value is  40.0\n",
            "100 percentile value is  552.0\n"
          ],
          "name": "stdout"
        }
      ]
    },
    {
      "cell_type": "code",
      "metadata": {
        "id": "QG2qG-Tp9fzT",
        "colab_type": "code",
        "colab": {
          "base_uri": "https://localhost:8080/",
          "height": 185
        },
        "outputId": "a0656ddf-833a-4fc1-b2b5-f0200052db5d"
      },
      "source": [
        "#99 to 100 percentile\n",
        "for i in range(10,110,10):\n",
        "  print(99+(i/100),\"percentile value is \",np.percentile(in_degree_dist,99+(i/100)))"
      ],
      "execution_count": 14,
      "outputs": [
        {
          "output_type": "stream",
          "text": [
            "99.1 percentile value is  42.0\n",
            "99.2 percentile value is  44.0\n",
            "99.3 percentile value is  47.0\n",
            "99.4 percentile value is  50.0\n",
            "99.5 percentile value is  55.0\n",
            "99.6 percentile value is  61.0\n",
            "99.7 percentile value is  70.0\n",
            "99.8 percentile value is  84.0\n",
            "99.9 percentile value is  112.0\n",
            "100.0 percentile value is  552.0\n"
          ],
          "name": "stdout"
        }
      ]
    },
    {
      "cell_type": "code",
      "metadata": {
        "id": "A3t4wjly95sn",
        "colab_type": "code",
        "colab": {
          "base_uri": "https://localhost:8080/",
          "height": 511
        },
        "outputId": "505cdeef-2831-4b6e-cae5-ee4aabbb348d"
      },
      "source": [
        "%matplotlib inline\n",
        "sns.set_style('ticks')\n",
        "fig, ax = plt.subplots()\n",
        "fig.set_size_inches(11.7, 8.27)\n",
        "sns.distplot(in_degree_dist, color='#16A085')\n",
        "plt.xlabel('PDF of Indegree')\n",
        "sns.despine()\n",
        "#plt.show()"
      ],
      "execution_count": 15,
      "outputs": [
        {
          "output_type": "display_data",
          "data": {
            "image/png": "[encoded data removed]",
            "text/plain": [
              "<Figure size 842.4x595.44 with 1 Axes>"
            ]
          },
          "metadata": {
            "tags": []
          }
        }
      ]
    },
    {
      "cell_type": "code",
      "metadata": {
        "id": "SaTWZ8aD-OL4",
        "colab_type": "code",
        "colab": {
          "base_uri": "https://localhost:8080/",
          "height": 265
        },
        "outputId": "3185c108-9aec-4532-ba58-14343129f067"
      },
      "source": [
        "#plotting the box plot\n",
        "plt.boxplot(in_degree_dist)\n",
        "plt.show()"
      ],
      "execution_count": 16,
      "outputs": [
        {
          "output_type": "display_data",
          "data": {
            "image/png": "[encoded data removed]",
            "text/plain": [
              "<Figure size 432x288 with 1 Axes>"
            ]
          },
          "metadata": {
            "tags": []
          }
        }
      ]
    },
    {
      "cell_type": "code",
      "metadata": {
        "id": "eXWJ3jT3-XG-",
        "colab_type": "code",
        "colab": {
          "base_uri": "https://localhost:8080/",
          "height": 388
        },
        "outputId": "f6224948-0d12-4fca-a85b-63b804c4f77a"
      },
      "source": [
        "#Similarly for outdegree\n",
        "out_degree_dist=list(dict(g.out_degree()).values())\n",
        "out_degree_dist.sort()\n",
        "plt.figure(figsize=(12,6))\n",
        "plt.plot(out_degree_dist)\n",
        "plt.xlabel(\"index no\")\n",
        "plt.ylabel(\"no of followers\")\n",
        "plt.show()"
      ],
      "execution_count": 17,
      "outputs": [
        {
          "output_type": "display_data",
          "data": {
            "image/png": "[encoded data removed]",
            "text/plain": [
              "<Figure size 864x432 with 1 Axes>"
            ]
          },
          "metadata": {
            "tags": []
          }
        }
      ]
    },
    {
      "cell_type": "code",
      "metadata": {
        "id": "UAR5W4fg-3H7",
        "colab_type": "code",
        "colab": {
          "base_uri": "https://localhost:8080/",
          "height": 388
        },
        "outputId": "74c5b795-91c4-4286-e199-c7e1adafec84"
      },
      "source": [
        "plt.figure(figsize=(12,6))\n",
        "plt.plot(out_degree_dist[0:1500000])\n",
        "plt.xlabel(\"index no\")\n",
        "plt.ylabel(\"no of followers\")\n",
        "plt.show()"
      ],
      "execution_count": 18,
      "outputs": [
        {
          "output_type": "display_data",
          "data": {
            "image/png": "[encoded data removed]",
            "text/plain": [
              "<Figure size 864x432 with 1 Axes>"
            ]
          },
          "metadata": {
            "tags": []
          }
        }
      ]
    },
    {
      "cell_type": "code",
      "metadata": {
        "id": "aRwg8uNb-_qn",
        "colab_type": "code",
        "colab": {
          "base_uri": "https://localhost:8080/",
          "height": 265
        },
        "outputId": "b9e18759-577d-4319-c85b-1d19dd0fa2bd"
      },
      "source": [
        "plt.boxplot(out_degree_dist)\n",
        "plt.show()"
      ],
      "execution_count": 19,
      "outputs": [
        {
          "output_type": "display_data",
          "data": {
            "image/png": "[encoded data removed]",
            "text/plain": [
              "<Figure size 432x288 with 1 Axes>"
            ]
          },
          "metadata": {
            "tags": []
          }
        }
      ]
    },
    {
      "cell_type": "code",
      "metadata": {
        "id": "tQBLX_nF_EW7",
        "colab_type": "code",
        "colab": {
          "base_uri": "https://localhost:8080/",
          "height": 202
        },
        "outputId": "6a429ffc-1790-47d8-fb76-18ba4817f591"
      },
      "source": [
        "#Computing the percentile\n",
        "for i in range(0,11):\n",
        "  print(90+i,\"percentile value is \",np.percentile(out_degree_dist,90+i))"
      ],
      "execution_count": 20,
      "outputs": [
        {
          "output_type": "stream",
          "text": [
            "90 percentile value is  12.0\n",
            "91 percentile value is  13.0\n",
            "92 percentile value is  14.0\n",
            "93 percentile value is  15.0\n",
            "94 percentile value is  17.0\n",
            "95 percentile value is  19.0\n",
            "96 percentile value is  21.0\n",
            "97 percentile value is  24.0\n",
            "98 percentile value is  29.0\n",
            "99 percentile value is  40.0\n",
            "100 percentile value is  1566.0\n"
          ],
          "name": "stdout"
        }
      ]
    },
    {
      "cell_type": "code",
      "metadata": {
        "id": "ivHp3akR_YtW",
        "colab_type": "code",
        "colab": {
          "base_uri": "https://localhost:8080/",
          "height": 185
        },
        "outputId": "c37de775-7dd1-4c57-e417-947e0f94b54e"
      },
      "source": [
        "for i in range(10,110,10):\n",
        "  print(99+(i/100),\"percentile value is \",np.percentile(out_degree_dist,99+(i/100)))"
      ],
      "execution_count": 21,
      "outputs": [
        {
          "output_type": "stream",
          "text": [
            "99.1 percentile value is  42.0\n",
            "99.2 percentile value is  45.0\n",
            "99.3 percentile value is  48.0\n",
            "99.4 percentile value is  52.0\n",
            "99.5 percentile value is  56.0\n",
            "99.6 percentile value is  63.0\n",
            "99.7 percentile value is  73.0\n",
            "99.8 percentile value is  90.0\n",
            "99.9 percentile value is  123.0\n",
            "100.0 percentile value is  1566.0\n"
          ],
          "name": "stdout"
        }
      ]
    },
    {
      "cell_type": "code",
      "metadata": {
        "id": "ixywvXuD_rlA",
        "colab_type": "code",
        "colab": {
          "base_uri": "https://localhost:8080/",
          "height": 511
        },
        "outputId": "b127298b-5f1f-46b3-9ac5-9aaf7582adee"
      },
      "source": [
        "sns.set_style('ticks')\n",
        "fig,ax=plt.subplots()\n",
        "fig.set_size_inches(11.7,8.27)\n",
        "sns.distplot(out_degree_dist)\n",
        "plt.xlabel('Pdf of out degree')\n",
        "sns.despine()\n"
      ],
      "execution_count": 22,
      "outputs": [
        {
          "output_type": "display_data",
          "data": {
            "image/png": "[encoded data removed]",
            "text/plain": [
              "<Figure size 842.4x595.44 with 1 Axes>"
            ]
          },
          "metadata": {
            "tags": []
          }
        }
      ]
    },
    {
      "cell_type": "code",
      "metadata": {
        "id": "SQ3XbW6UAG0T",
        "colab_type": "code",
        "colab": {
          "base_uri": "https://localhost:8080/",
          "height": 34
        },
        "outputId": "d815ea45-059f-4e80-9a7b-e257e7e50d35"
      },
      "source": [
        "print('No of persons those are not following anyone are' ,sum(np.array(out_degree_dist)==0),'and % is',\n",
        "                                sum(np.array(out_degree_dist)==0)*100/len(out_degree_dist) )"
      ],
      "execution_count": 23,
      "outputs": [
        {
          "output_type": "stream",
          "text": [
            "No of persons those are not following anyone are 274512 and % is 14.741115442858524\n"
          ],
          "name": "stdout"
        }
      ]
    },
    {
      "cell_type": "code",
      "metadata": {
        "id": "L7f9IdSPBloB",
        "colab_type": "code",
        "colab": {
          "base_uri": "https://localhost:8080/",
          "height": 34
        },
        "outputId": "490a830e-6cb5-4730-8faf-e6076a4323ef"
      },
      "source": [
        "print('No of persons having zero followers are' ,sum(np.array(in_degree_dist)==0),'and % is',\n",
        "                                sum(np.array(in_degree_dist)==0)*100/len(in_degree_dist) )"
      ],
      "execution_count": 24,
      "outputs": [
        {
          "output_type": "stream",
          "text": [
            "No of persons having zero followers are 188043 and % is 10.097786512871734\n"
          ],
          "name": "stdout"
        }
      ]
    },
    {
      "cell_type": "code",
      "metadata": {
        "id": "Dw0V77inBxl-",
        "colab_type": "code",
        "colab": {
          "base_uri": "https://localhost:8080/",
          "height": 34
        },
        "outputId": "d7988893-4023-4a9d-adde-7c9ac5013978"
      },
      "source": [
        "count=0\n",
        "for i in g.nodes():\n",
        "    if len(list(g.predecessors(i)))==0 :\n",
        "        if len(list(g.successors(i)))==0:\n",
        "            count+=1\n",
        "print('No of persons those are not not following anyone and also not having any followers are',count)"
      ],
      "execution_count": 25,
      "outputs": [
        {
          "output_type": "stream",
          "text": [
            "No of persons those are not not following anyone and also not having any followers are 0\n"
          ],
          "name": "stdout"
        }
      ]
    },
    {
      "cell_type": "code",
      "metadata": {
        "id": "sgxqG_UtB7o0",
        "colab_type": "code",
        "colab": {}
      },
      "source": [
        "#Adding indegree and outdegree\n",
        "from collections import Counter\n",
        "dict_in = dict(g.in_degree())\n",
        "dict_out = dict(g.out_degree())\n",
        "d = Counter(dict_in) + Counter(dict_out)\n",
        "in_out_degree = np.array(list(d.values()))"
      ],
      "execution_count": 0,
      "outputs": []
    },
    {
      "cell_type": "code",
      "metadata": {
        "id": "jeSUfnuvCGSN",
        "colab_type": "code",
        "colab": {
          "base_uri": "https://localhost:8080/",
          "height": 388
        },
        "outputId": "8a9ce338-3bb1-4ec2-ea42-547e80492cc8"
      },
      "source": [
        "in_out_degree_sort = sorted(in_out_degree)\n",
        "plt.figure(figsize=(10,6))\n",
        "plt.plot(in_out_degree_sort)\n",
        "plt.xlabel('Index No')\n",
        "plt.ylabel('No Of people each person is following + followers')\n",
        "plt.show()"
      ],
      "execution_count": 27,
      "outputs": [
        {
          "output_type": "display_data",
          "data": {
            "image/png": "[encoded data removed]",
            "text/plain": [
              "<Figure size 720x432 with 1 Axes>"
            ]
          },
          "metadata": {
            "tags": []
          }
        }
      ]
    },
    {
      "cell_type": "code",
      "metadata": {
        "id": "2JSfn5EECLNf",
        "colab_type": "code",
        "colab": {
          "base_uri": "https://localhost:8080/",
          "height": 388
        },
        "outputId": "22db3e99-3f6b-4024-b23e-03024a1963a6"
      },
      "source": [
        "in_out_degree_sort = sorted(in_out_degree)\n",
        "plt.figure(figsize=(10,6))\n",
        "plt.plot(in_out_degree_sort[0:1500000])\n",
        "plt.xlabel('Index No')\n",
        "plt.ylabel('No Of people each person is following + followers')\n",
        "plt.show()"
      ],
      "execution_count": 28,
      "outputs": [
        {
          "output_type": "display_data",
          "data": {
            "image/png": "[encoded data removed]",
            "text/plain": [
              "<Figure size 720x432 with 1 Axes>"
            ]
          },
          "metadata": {
            "tags": []
          }
        }
      ]
    },
    {
      "cell_type": "code",
      "metadata": {
        "id": "KeEaGhNZCO-y",
        "colab_type": "code",
        "colab": {
          "base_uri": "https://localhost:8080/",
          "height": 202
        },
        "outputId": "9ab831a3-77ed-4c3b-d430-94c330f59f19"
      },
      "source": [
        "### 90-100 percentile\n",
        "for i in range(0,11):\n",
        "    print(90+i,'percentile value is',np.percentile(in_out_degree_sort,90+i))"
      ],
      "execution_count": 29,
      "outputs": [
        {
          "output_type": "stream",
          "text": [
            "90 percentile value is 24.0\n",
            "91 percentile value is 26.0\n",
            "92 percentile value is 28.0\n",
            "93 percentile value is 31.0\n",
            "94 percentile value is 33.0\n",
            "95 percentile value is 37.0\n",
            "96 percentile value is 41.0\n",
            "97 percentile value is 48.0\n",
            "98 percentile value is 58.0\n",
            "99 percentile value is 79.0\n",
            "100 percentile value is 1579.0\n"
          ],
          "name": "stdout"
        }
      ]
    },
    {
      "cell_type": "code",
      "metadata": {
        "id": "RV0tONM1CVpF",
        "colab_type": "code",
        "colab": {
          "base_uri": "https://localhost:8080/",
          "height": 50
        },
        "outputId": "a0683236-3bbe-4819-d165-5d6e10673f60"
      },
      "source": [
        "print('Min of no of followers + following is',in_out_degree.min())\n",
        "print(np.sum(in_out_degree==in_out_degree.min()),' persons having minimum no of followers + following')"
      ],
      "execution_count": 30,
      "outputs": [
        {
          "output_type": "stream",
          "text": [
            "Min of no of followers + following is 1\n",
            "334291  persons having minimum no of followers + following\n"
          ],
          "name": "stdout"
        }
      ]
    },
    {
      "cell_type": "code",
      "metadata": {
        "id": "mAAQzi7PCdg5",
        "colab_type": "code",
        "colab": {
          "base_uri": "https://localhost:8080/",
          "height": 50
        },
        "outputId": "e69ef88c-cc75-4f0b-de5b-6dbdce13bd70"
      },
      "source": [
        "print('Max of no of followers + following is',in_out_degree.max())\n",
        "print(np.sum(in_out_degree==in_out_degree.max()),' persons having maximum no of followers + following')"
      ],
      "execution_count": 31,
      "outputs": [
        {
          "output_type": "stream",
          "text": [
            "Max of no of followers + following is 1579\n",
            "1  persons having maximum no of followers + following\n"
          ],
          "name": "stdout"
        }
      ]
    },
    {
      "cell_type": "code",
      "metadata": {
        "id": "9y75gmysCklQ",
        "colab_type": "code",
        "colab": {
          "base_uri": "https://localhost:8080/",
          "height": 34
        },
        "outputId": "b8108d3e-3032-4584-fdb5-b4af4039729c"
      },
      "source": [
        "print('No of persons having followers + following less than 10 are',np.sum(in_out_degree<10))\n"
      ],
      "execution_count": 32,
      "outputs": [
        {
          "output_type": "stream",
          "text": [
            "No of persons having followers + following less than 10 are 1320326\n"
          ],
          "name": "stdout"
        }
      ]
    },
    {
      "cell_type": "code",
      "metadata": {
        "id": "13xhxVbUCp1b",
        "colab_type": "code",
        "colab": {
          "base_uri": "https://localhost:8080/",
          "height": 50
        },
        "outputId": "348940b3-3d97-4326-a8d4-5062095b5cc6"
      },
      "source": [
        "#Weakly connected components\n",
        "print('No of weakly connected components',len(list(nx.weakly_connected_components(g))))\n",
        "count=0\n",
        "for i in list(nx.weakly_connected_components(g)):\n",
        "    if len(i)==2:\n",
        "        count+=1\n",
        "print('weakly connected components wit 2 nodes',count)"
      ],
      "execution_count": 33,
      "outputs": [
        {
          "output_type": "stream",
          "text": [
            "No of weakly connected components 45558\n",
            "weakly connected components wit 2 nodes 32195\n"
          ],
          "name": "stdout"
        }
      ]
    },
    {
      "cell_type": "code",
      "metadata": {
        "id": "U38-ynQhCzqp",
        "colab_type": "code",
        "colab": {}
      },
      "source": [
        "#Generating bad edges that are not present in data and also path greater than 2#getting all set of edges\n",
        "r = csv.reader(open('woheader.csv','r'))\n",
        "edges = dict()\n",
        "for edge in r:\n",
        "    edges[(edge[0], edge[1])] = 1"
      ],
      "execution_count": 0,
      "outputs": []
    },
    {
      "cell_type": "code",
      "metadata": {
        "id": "1MZwkOxVDI3J",
        "colab_type": "code",
        "colab": {}
      },
      "source": [
        "%%time\n",
        "###generating bad edges from given graph\n",
        "import random\n",
        "missing_edges = set([])\n",
        "while (len(missing_edges)<9437519):\n",
        "    a=random.randint(1, 1862220)\n",
        "    b=random.randint(1, 1862220)\n",
        "    tmp = edges.get((a,b),-1)\n",
        "    if tmp == -1 and a!=b:\n",
        "        try:\n",
        "            if nx.shortest_path_length(g,source=a,target=b) > 2: \n",
        "                \n",
        "                missing_edges.add((a,b))\n",
        "            else:\n",
        "                continue  \n",
        "        except:  \n",
        "                missing_edges.add((a,b))              \n",
        "    else:\n",
        "        continue"
      ],
      "execution_count": 0,
      "outputs": []
    },
    {
      "cell_type": "code",
      "metadata": {
        "id": "emEajt_vdQaj",
        "colab_type": "code",
        "colab": {}
      },
      "source": [
        "import pickle\n",
        "pickle.dump(missing_edges,open('missing_edges_final.p','wb'))\n",
        "missing_edges = pickle.load(open('missing_edges_final.p','rb'))"
      ],
      "execution_count": 0,
      "outputs": []
    }
  ]
}
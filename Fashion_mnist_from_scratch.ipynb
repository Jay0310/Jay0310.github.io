{
  "nbformat": 4,
  "nbformat_minor": 0,
  "metadata": {
    "colab": {
      "name": "Fashion mnist from scratch.ipynb",
      "provenance": [],
      "collapsed_sections": [],
      "include_colab_link": true
    },
    "kernelspec": {
      "name": "python3",
      "display_name": "Python 3"
    },
    "accelerator": "GPU"
  },
  "cells": [
    {
      "cell_type": "markdown",
      "metadata": {
        "id": "view-in-github",
        "colab_type": "text"
      },
      "source": [
        "<a href=\"https://colab.research.google.com/github/Jay0310/Jay0310.github.io/blob/master/Fashion_mnist_from_scratch.ipynb\" target=\"_parent\"><img src=\"https://colab.research.google.com/assets/colab-badge.svg\" alt=\"Open In Colab\"/></a>"
      ]
    },
    {
      "cell_type": "code",
      "metadata": {
        "id": "tu-gFAVIdjc6",
        "colab_type": "code",
        "outputId": "7096a39c-c4ab-4ad9-b2cd-d467ac8501d2",
        "colab": {
          "base_uri": "https://localhost:8080/",
          "height": 79
        }
      },
      "source": [
        "import numpy as np\n",
        "import pandas as pd\n",
        "from pandas import Series,DataFrame\n",
        "import seaborn as sns\n",
        "from tensorflow import keras\n",
        "from keras.utils import np_utils\n",
        "from keras.initializers import RandomNormal"
      ],
      "execution_count": 1,
      "outputs": [
        {
          "output_type": "display_data",
          "data": {
            "text/html": [
              "<p style=\"color: red;\">\n",
              "The default version of TensorFlow in Colab will soon switch to TensorFlow 2.x.<br>\n",
              "We recommend you <a href=\"https://www.tensorflow.org/guide/migrate\" target=\"_blank\">upgrade</a> now \n",
              "or ensure your notebook will continue to use TensorFlow 1.x via the <code>%tensorflow_version 1.x</code> magic:\n",
              "<a href=\"https://colab.research.google.com/notebooks/tensorflow_version.ipynb\" target=\"_blank\">more info</a>.</p>\n"
            ],
            "text/plain": [
              "<IPython.core.display.HTML object>"
            ]
          },
          "metadata": {
            "tags": []
          }
        },
        {
          "output_type": "stream",
          "text": [
            "Using TensorFlow backend.\n"
          ],
          "name": "stderr"
        }
      ]
    },
    {
      "cell_type": "code",
      "metadata": {
        "id": "mqk5QWTsd6Qo",
        "colab_type": "code",
        "colab": {}
      },
      "source": [
        "from keras.datasets import fashion_mnist"
      ],
      "execution_count": 0,
      "outputs": []
    },
    {
      "cell_type": "code",
      "metadata": {
        "id": "IDBihGHvoqJT",
        "colab_type": "code",
        "outputId": "6aee3998-bed0-40c1-88da-350eadebd317",
        "colab": {
          "base_uri": "https://localhost:8080/",
          "height": 151
        }
      },
      "source": [
        "(x_train,y_train),(x_test,y_test)=fashion_mnist.load_data()"
      ],
      "execution_count": 3,
      "outputs": [
        {
          "output_type": "stream",
          "text": [
            "Downloading data from http://fashion-mnist.s3-website.eu-central-1.amazonaws.com/train-labels-idx1-ubyte.gz\n",
            "32768/29515 [=================================] - 0s 8us/step\n",
            "Downloading data from http://fashion-mnist.s3-website.eu-central-1.amazonaws.com/train-images-idx3-ubyte.gz\n",
            "26427392/26421880 [==============================] - 4s 0us/step\n",
            "Downloading data from http://fashion-mnist.s3-website.eu-central-1.amazonaws.com/t10k-labels-idx1-ubyte.gz\n",
            "8192/5148 [===============================================] - 0s 0us/step\n",
            "Downloading data from http://fashion-mnist.s3-website.eu-central-1.amazonaws.com/t10k-images-idx3-ubyte.gz\n",
            "4423680/4422102 [==============================] - 2s 0us/step\n"
          ],
          "name": "stdout"
        }
      ]
    },
    {
      "cell_type": "code",
      "metadata": {
        "id": "A2qF3DrnowEq",
        "colab_type": "code",
        "outputId": "b2236a4e-a140-4b44-ef9a-a6567e6fe583",
        "colab": {
          "base_uri": "https://localhost:8080/",
          "height": 34
        }
      },
      "source": [
        "(x_train.shape),(y_train.shape),(x_test.shape),(y_test.shape)"
      ],
      "execution_count": 4,
      "outputs": [
        {
          "output_type": "execute_result",
          "data": {
            "text/plain": [
              "((60000, 28, 28), (60000,), (10000, 28, 28), (10000,))"
            ]
          },
          "metadata": {
            "tags": []
          },
          "execution_count": 4
        }
      ]
    },
    {
      "cell_type": "code",
      "metadata": {
        "id": "vRMoVgVMo5kG",
        "colab_type": "code",
        "colab": {}
      },
      "source": [
        "from keras import backend as K"
      ],
      "execution_count": 0,
      "outputs": []
    },
    {
      "cell_type": "code",
      "metadata": {
        "id": "HXGcBJMspAT7",
        "colab_type": "code",
        "colab": {}
      },
      "source": [
        "if K.image_data_format()=='channel first':\n",
        "  x_train=x_train.reshape(x_train.shape[0],1,28,28)\n",
        "  x_test=x_test.reshape(x_test.shape[0],1,28,28)\n",
        "  input_shape=(1,28,28)\n",
        "else:\n",
        "  x_train=x_train.reshape(x_train.shape[0],28,28,1)\n",
        "  x_test=x_test.reshape(x_test.shape[0],28,28,1)\n",
        "  input_shape=(28,28,1)\n"
      ],
      "execution_count": 0,
      "outputs": []
    },
    {
      "cell_type": "code",
      "metadata": {
        "id": "i_EeY1bPpt_g",
        "colab_type": "code",
        "colab": {}
      },
      "source": [
        "num_class=10\n",
        "y_train=np_utils.to_categorical(y_train,num_class)\n",
        "y_test=np_utils.to_categorical(y_test,num_class)"
      ],
      "execution_count": 0,
      "outputs": []
    },
    {
      "cell_type": "code",
      "metadata": {
        "id": "0Sxxwpsyp9jj",
        "colab_type": "code",
        "outputId": "af0f9460-5967-4499-c5dc-0c7ac53a801a",
        "colab": {
          "base_uri": "https://localhost:8080/",
          "height": 34
        }
      },
      "source": [
        "y_train[0]"
      ],
      "execution_count": 8,
      "outputs": [
        {
          "output_type": "execute_result",
          "data": {
            "text/plain": [
              "array([0., 0., 0., 0., 0., 0., 0., 0., 0., 1.], dtype=float32)"
            ]
          },
          "metadata": {
            "tags": []
          },
          "execution_count": 8
        }
      ]
    },
    {
      "cell_type": "code",
      "metadata": {
        "id": "tSbv8pa1p_Ar",
        "colab_type": "code",
        "outputId": "8ccee1a5-0df4-4e8d-c95b-685f688346d6",
        "colab": {
          "base_uri": "https://localhost:8080/",
          "height": 34
        }
      },
      "source": [
        "y_train.shape"
      ],
      "execution_count": 9,
      "outputs": [
        {
          "output_type": "execute_result",
          "data": {
            "text/plain": [
              "(60000, 10)"
            ]
          },
          "metadata": {
            "tags": []
          },
          "execution_count": 9
        }
      ]
    },
    {
      "cell_type": "code",
      "metadata": {
        "id": "KDXoY8cEqBXS",
        "colab_type": "code",
        "colab": {}
      },
      "source": [
        "x_train=x_train.astype('float32')\n",
        "x_test=x_test.astype('float32')\n"
      ],
      "execution_count": 0,
      "outputs": []
    },
    {
      "cell_type": "code",
      "metadata": {
        "id": "6CSdkq5XqKhe",
        "colab_type": "code",
        "colab": {}
      },
      "source": [
        "x_train=x_train/255\n",
        "x_test=x_test/255"
      ],
      "execution_count": 0,
      "outputs": []
    },
    {
      "cell_type": "code",
      "metadata": {
        "id": "XIRt3GidQBOL",
        "colab_type": "code",
        "colab": {}
      },
      "source": [
        "from keras.models import Sequential\n",
        "from keras.layers import Dense,Dropout,Activation,BatchNormalization,Conv2D,MaxPool2D,Flatten"
      ],
      "execution_count": 0,
      "outputs": []
    },
    {
      "cell_type": "code",
      "metadata": {
        "id": "DnZ9p68-QSP8",
        "colab_type": "code",
        "outputId": "ad908b27-7287-4880-d132-bd6776c7e06b",
        "colab": {
          "base_uri": "https://localhost:8080/",
          "height": 490
        }
      },
      "source": [
        "model=Sequential()\n",
        "\n",
        "#layer 1\n",
        "model.add(Conv2D(128,kernel_size=(3,3),activation='relu',input_shape=input_shape))\n",
        "model.add(BatchNormalization())\n",
        "model.add(Dropout(0.25))\n",
        "\n",
        "#layer 2 \n",
        "model.add(Conv2D(64,(3,3),activation='relu'))\n",
        "model.add(MaxPool2D(pool_size=(2,2)))\n",
        "model.add(BatchNormalization())\n",
        "model.add(Dropout(0.25))\n",
        "\n",
        "#layer 3\n",
        "model.add(Conv2D(32,(3,3),activation='relu'))\n",
        "model.add(MaxPool2D(pool_size=(2,2)))\n",
        "model.add(BatchNormalization())\n",
        "model.add(Dropout(0.25))\n",
        "\n",
        "model.add(Flatten())\n",
        "model.add(Dense(128,activation='relu'))\n",
        "model.add(Dropout(0.25))\n",
        "model.add(Dense(10,activation='softmax'))"
      ],
      "execution_count": 13,
      "outputs": [
        {
          "output_type": "stream",
          "text": [
            "WARNING:tensorflow:From /usr/local/lib/python3.6/dist-packages/keras/backend/tensorflow_backend.py:66: The name tf.get_default_graph is deprecated. Please use tf.compat.v1.get_default_graph instead.\n",
            "\n",
            "WARNING:tensorflow:From /usr/local/lib/python3.6/dist-packages/keras/backend/tensorflow_backend.py:541: The name tf.placeholder is deprecated. Please use tf.compat.v1.placeholder instead.\n",
            "\n",
            "WARNING:tensorflow:From /usr/local/lib/python3.6/dist-packages/keras/backend/tensorflow_backend.py:4432: The name tf.random_uniform is deprecated. Please use tf.random.uniform instead.\n",
            "\n",
            "WARNING:tensorflow:From /usr/local/lib/python3.6/dist-packages/keras/backend/tensorflow_backend.py:190: The name tf.get_default_session is deprecated. Please use tf.compat.v1.get_default_session instead.\n",
            "\n",
            "WARNING:tensorflow:From /usr/local/lib/python3.6/dist-packages/keras/backend/tensorflow_backend.py:197: The name tf.ConfigProto is deprecated. Please use tf.compat.v1.ConfigProto instead.\n",
            "\n",
            "WARNING:tensorflow:From /usr/local/lib/python3.6/dist-packages/keras/backend/tensorflow_backend.py:203: The name tf.Session is deprecated. Please use tf.compat.v1.Session instead.\n",
            "\n",
            "WARNING:tensorflow:From /usr/local/lib/python3.6/dist-packages/keras/backend/tensorflow_backend.py:207: The name tf.global_variables is deprecated. Please use tf.compat.v1.global_variables instead.\n",
            "\n",
            "WARNING:tensorflow:From /usr/local/lib/python3.6/dist-packages/keras/backend/tensorflow_backend.py:216: The name tf.is_variable_initialized is deprecated. Please use tf.compat.v1.is_variable_initialized instead.\n",
            "\n",
            "WARNING:tensorflow:From /usr/local/lib/python3.6/dist-packages/keras/backend/tensorflow_backend.py:223: The name tf.variables_initializer is deprecated. Please use tf.compat.v1.variables_initializer instead.\n",
            "\n",
            "WARNING:tensorflow:From /usr/local/lib/python3.6/dist-packages/keras/backend/tensorflow_backend.py:2041: The name tf.nn.fused_batch_norm is deprecated. Please use tf.compat.v1.nn.fused_batch_norm instead.\n",
            "\n",
            "WARNING:tensorflow:From /usr/local/lib/python3.6/dist-packages/keras/backend/tensorflow_backend.py:148: The name tf.placeholder_with_default is deprecated. Please use tf.compat.v1.placeholder_with_default instead.\n",
            "\n",
            "WARNING:tensorflow:From /usr/local/lib/python3.6/dist-packages/keras/backend/tensorflow_backend.py:3733: calling dropout (from tensorflow.python.ops.nn_ops) with keep_prob is deprecated and will be removed in a future version.\n",
            "Instructions for updating:\n",
            "Please use `rate` instead of `keep_prob`. Rate should be set to `rate = 1 - keep_prob`.\n",
            "WARNING:tensorflow:From /usr/local/lib/python3.6/dist-packages/keras/backend/tensorflow_backend.py:4267: The name tf.nn.max_pool is deprecated. Please use tf.nn.max_pool2d instead.\n",
            "\n"
          ],
          "name": "stdout"
        }
      ]
    },
    {
      "cell_type": "code",
      "metadata": {
        "id": "k9xL0PxOqPtp",
        "colab_type": "code",
        "outputId": "16de99b9-c84e-4a81-8b91-3c5fce947289",
        "colab": {
          "base_uri": "https://localhost:8080/",
          "height": 84
        }
      },
      "source": [
        "model.compile(optimizer='adam',loss=\"categorical_crossentropy\",metrics=['accuracy'])"
      ],
      "execution_count": 14,
      "outputs": [
        {
          "output_type": "stream",
          "text": [
            "WARNING:tensorflow:From /usr/local/lib/python3.6/dist-packages/keras/optimizers.py:793: The name tf.train.Optimizer is deprecated. Please use tf.compat.v1.train.Optimizer instead.\n",
            "\n",
            "WARNING:tensorflow:From /usr/local/lib/python3.6/dist-packages/keras/backend/tensorflow_backend.py:3576: The name tf.log is deprecated. Please use tf.math.log instead.\n",
            "\n"
          ],
          "name": "stdout"
        }
      ]
    },
    {
      "cell_type": "code",
      "metadata": {
        "id": "zGA0wa2htuUD",
        "colab_type": "code",
        "outputId": "adbd439e-e443-424b-abeb-731baf4fc36c",
        "colab": {
          "base_uri": "https://localhost:8080/",
          "height": 507
        }
      },
      "source": [
        "history2=model.fit(x_train,y_train,batch_size=200,epochs=10,verbose=1,validation_data=(x_test,y_test))"
      ],
      "execution_count": 15,
      "outputs": [
        {
          "output_type": "stream",
          "text": [
            "WARNING:tensorflow:From /usr/local/lib/python3.6/dist-packages/tensorflow_core/python/ops/math_grad.py:1424: where (from tensorflow.python.ops.array_ops) is deprecated and will be removed in a future version.\n",
            "Instructions for updating:\n",
            "Use tf.where in 2.0, which has the same broadcast rule as np.where\n",
            "WARNING:tensorflow:From /usr/local/lib/python3.6/dist-packages/keras/backend/tensorflow_backend.py:1033: The name tf.assign_add is deprecated. Please use tf.compat.v1.assign_add instead.\n",
            "\n",
            "WARNING:tensorflow:From /usr/local/lib/python3.6/dist-packages/keras/backend/tensorflow_backend.py:1020: The name tf.assign is deprecated. Please use tf.compat.v1.assign instead.\n",
            "\n",
            "Train on 60000 samples, validate on 10000 samples\n",
            "Epoch 1/10\n",
            "60000/60000 [==============================] - 26s 437us/step - loss: 0.5728 - acc: 0.7917 - val_loss: 0.3669 - val_acc: 0.8660\n",
            "Epoch 2/10\n",
            "60000/60000 [==============================] - 22s 360us/step - loss: 0.3617 - acc: 0.8674 - val_loss: 0.3110 - val_acc: 0.8849\n",
            "Epoch 3/10\n",
            "60000/60000 [==============================] - 22s 359us/step - loss: 0.3104 - acc: 0.8855 - val_loss: 0.2764 - val_acc: 0.8973\n",
            "Epoch 4/10\n",
            "60000/60000 [==============================] - 22s 359us/step - loss: 0.2838 - acc: 0.8954 - val_loss: 0.2594 - val_acc: 0.9050\n",
            "Epoch 5/10\n",
            "60000/60000 [==============================] - 22s 362us/step - loss: 0.2619 - acc: 0.9045 - val_loss: 0.2801 - val_acc: 0.8955\n",
            "Epoch 6/10\n",
            "60000/60000 [==============================] - 22s 360us/step - loss: 0.2468 - acc: 0.9078 - val_loss: 0.2352 - val_acc: 0.9169\n",
            "Epoch 7/10\n",
            "60000/60000 [==============================] - 22s 362us/step - loss: 0.2344 - acc: 0.9127 - val_loss: 0.2328 - val_acc: 0.9149\n",
            "Epoch 8/10\n",
            "60000/60000 [==============================] - 22s 360us/step - loss: 0.2279 - acc: 0.9153 - val_loss: 0.2249 - val_acc: 0.9210\n",
            "Epoch 9/10\n",
            "60000/60000 [==============================] - 22s 362us/step - loss: 0.2172 - acc: 0.9183 - val_loss: 0.2189 - val_acc: 0.9196\n",
            "Epoch 10/10\n",
            "60000/60000 [==============================] - 22s 360us/step - loss: 0.2095 - acc: 0.9217 - val_loss: 0.2152 - val_acc: 0.9242\n"
          ],
          "name": "stdout"
        }
      ]
    },
    {
      "cell_type": "code",
      "metadata": {
        "id": "7aOGikbERbbv",
        "colab_type": "code",
        "outputId": "35463555-8eff-4791-b85e-2d7c81ea3b4f",
        "colab": {
          "base_uri": "https://localhost:8080/",
          "height": 34
        }
      },
      "source": [
        "score=model.evaluate(x_test,y_test)"
      ],
      "execution_count": 16,
      "outputs": [
        {
          "output_type": "stream",
          "text": [
            "10000/10000 [==============================] - 2s 173us/step\n"
          ],
          "name": "stdout"
        }
      ]
    },
    {
      "cell_type": "code",
      "metadata": {
        "id": "ECLCFMOGi_sq",
        "colab_type": "code",
        "outputId": "0e9d8d66-6158-482c-8158-0bf81552c73d",
        "colab": {
          "base_uri": "https://localhost:8080/",
          "height": 34
        }
      },
      "source": [
        "score"
      ],
      "execution_count": 17,
      "outputs": [
        {
          "output_type": "execute_result",
          "data": {
            "text/plain": [
              "[0.2151721560895443, 0.9242]"
            ]
          },
          "metadata": {
            "tags": []
          },
          "execution_count": 17
        }
      ]
    },
    {
      "cell_type": "code",
      "metadata": {
        "id": "r7v7N9RhjEfa",
        "colab_type": "code",
        "colab": {}
      },
      "source": [
        ""
      ],
      "execution_count": 0,
      "outputs": []
    },
    {
      "cell_type": "markdown",
      "metadata": {
        "id": "CQbJj9KYjwN3",
        "colab_type": "text"
      },
      "source": [
        "MNIST with multiple con layers with different kernels"
      ]
    },
    {
      "cell_type": "code",
      "metadata": {
        "id": "CXwKmS9Ij5IG",
        "colab_type": "code",
        "colab": {
          "base_uri": "https://localhost:8080/",
          "height": 554
        },
        "outputId": "2574d975-d71e-48f5-92e1-921e3cf1e8f4"
      },
      "source": [
        "model_2=Sequential()\n",
        "\n",
        "#layer 1\n",
        "model_2.add(Conv2D(64,kernel_size=(3,3),input_shape=input_shape,activation='relu'))\n",
        "model_2.add(BatchNormalization())\n",
        "model_2.add(MaxPool2D(pool_size=(2,2)))\n",
        "model_2.add(Dropout(0.2))\n",
        "\n",
        "#Layer 2\n",
        "model_2.add(Conv2D(32,activation='relu',kernel_size=(3,3)))\n",
        "model_2.add(MaxPool2D(pool_size=(2,2)))\n",
        "model_2.add(Dropout(0.2))\n",
        "\n",
        "#layer3\n",
        "model_2.add(Conv2D(32,activation='relu',kernel_size=(3,3)))\n",
        "model_2.add(MaxPool2D(pool_size=(2,2)))\n",
        "\n",
        "model_2.add(Flatten())\n",
        "model_2.add(Dense(128,activation='relu'))\n",
        "model_2.add(Dense(10,activation='softmax'))\n",
        "model_2.summary()"
      ],
      "execution_count": 34,
      "outputs": [
        {
          "output_type": "stream",
          "text": [
            "Model: \"sequential_9\"\n",
            "_________________________________________________________________\n",
            "Layer (type)                 Output Shape              Param #   \n",
            "=================================================================\n",
            "conv2d_22 (Conv2D)           (None, 26, 26, 64)        640       \n",
            "_________________________________________________________________\n",
            "batch_normalization_9 (Batch (None, 26, 26, 64)        256       \n",
            "_________________________________________________________________\n",
            "max_pooling2d_15 (MaxPooling (None, 13, 13, 64)        0         \n",
            "_________________________________________________________________\n",
            "dropout_15 (Dropout)         (None, 13, 13, 64)        0         \n",
            "_________________________________________________________________\n",
            "conv2d_23 (Conv2D)           (None, 11, 11, 32)        18464     \n",
            "_________________________________________________________________\n",
            "max_pooling2d_16 (MaxPooling (None, 5, 5, 32)          0         \n",
            "_________________________________________________________________\n",
            "dropout_16 (Dropout)         (None, 5, 5, 32)          0         \n",
            "_________________________________________________________________\n",
            "conv2d_24 (Conv2D)           (None, 3, 3, 32)          9248      \n",
            "_________________________________________________________________\n",
            "max_pooling2d_17 (MaxPooling (None, 1, 1, 32)          0         \n",
            "_________________________________________________________________\n",
            "flatten_7 (Flatten)          (None, 32)                0         \n",
            "_________________________________________________________________\n",
            "dense_13 (Dense)             (None, 128)               4224      \n",
            "_________________________________________________________________\n",
            "dense_14 (Dense)             (None, 10)                1290      \n",
            "=================================================================\n",
            "Total params: 34,122\n",
            "Trainable params: 33,994\n",
            "Non-trainable params: 128\n",
            "_________________________________________________________________\n"
          ],
          "name": "stdout"
        }
      ]
    },
    {
      "cell_type": "code",
      "metadata": {
        "id": "bfcMQFxL1KqV",
        "colab_type": "code",
        "colab": {}
      },
      "source": [
        "model_2.compile(optimizer='adam',loss='categorical_crossentropy',metrics=['accuracy'])"
      ],
      "execution_count": 0,
      "outputs": []
    },
    {
      "cell_type": "code",
      "metadata": {
        "id": "Z2mFXXqi1hBu",
        "colab_type": "code",
        "colab": {
          "base_uri": "https://localhost:8080/",
          "height": 722
        },
        "outputId": "2bd1c930-13a4-4ac6-aa3b-d86a48dfae40"
      },
      "source": [
        "model_2.fit(x_train,y_train,batch_size=160,epochs=20,verbose=1,validation_data=(x_test,y_test))"
      ],
      "execution_count": 36,
      "outputs": [
        {
          "output_type": "stream",
          "text": [
            "Train on 60000 samples, validate on 10000 samples\n",
            "Epoch 1/20\n",
            "60000/60000 [==============================] - 9s 148us/step - loss: 0.6626 - acc: 0.7586 - val_loss: 0.4763 - val_acc: 0.8298\n",
            "Epoch 2/20\n",
            "60000/60000 [==============================] - 8s 125us/step - loss: 0.4509 - acc: 0.8355 - val_loss: 0.4040 - val_acc: 0.8563\n",
            "Epoch 3/20\n",
            "60000/60000 [==============================] - 7s 124us/step - loss: 0.4029 - acc: 0.8528 - val_loss: 0.3743 - val_acc: 0.8619\n",
            "Epoch 4/20\n",
            "60000/60000 [==============================] - 7s 124us/step - loss: 0.3759 - acc: 0.8621 - val_loss: 0.3893 - val_acc: 0.8598\n",
            "Epoch 5/20\n",
            "60000/60000 [==============================] - 7s 124us/step - loss: 0.3580 - acc: 0.8695 - val_loss: 0.3584 - val_acc: 0.8695\n",
            "Epoch 6/20\n",
            "60000/60000 [==============================] - 7s 124us/step - loss: 0.3440 - acc: 0.8738 - val_loss: 0.3380 - val_acc: 0.8794\n",
            "Epoch 7/20\n",
            "60000/60000 [==============================] - 7s 124us/step - loss: 0.3308 - acc: 0.8794 - val_loss: 0.3223 - val_acc: 0.8836\n",
            "Epoch 8/20\n",
            "60000/60000 [==============================] - 7s 124us/step - loss: 0.3189 - acc: 0.8838 - val_loss: 0.3263 - val_acc: 0.8824\n",
            "Epoch 9/20\n",
            "60000/60000 [==============================] - 8s 125us/step - loss: 0.3157 - acc: 0.8848 - val_loss: 0.3601 - val_acc: 0.8658\n",
            "Epoch 10/20\n",
            "60000/60000 [==============================] - 8s 127us/step - loss: 0.3060 - acc: 0.8864 - val_loss: 0.3221 - val_acc: 0.8778\n",
            "Epoch 11/20\n",
            "60000/60000 [==============================] - 7s 124us/step - loss: 0.3011 - acc: 0.8879 - val_loss: 0.3179 - val_acc: 0.8813\n",
            "Epoch 12/20\n",
            "60000/60000 [==============================] - 7s 124us/step - loss: 0.2959 - acc: 0.8896 - val_loss: 0.3103 - val_acc: 0.8835\n",
            "Epoch 13/20\n",
            "60000/60000 [==============================] - 7s 123us/step - loss: 0.2906 - acc: 0.8915 - val_loss: 0.2982 - val_acc: 0.8922\n",
            "Epoch 14/20\n",
            "60000/60000 [==============================] - 7s 123us/step - loss: 0.2845 - acc: 0.8951 - val_loss: 0.2957 - val_acc: 0.8920\n",
            "Epoch 15/20\n",
            "60000/60000 [==============================] - 7s 123us/step - loss: 0.2830 - acc: 0.8969 - val_loss: 0.2961 - val_acc: 0.8904\n",
            "Epoch 16/20\n",
            "60000/60000 [==============================] - 7s 124us/step - loss: 0.2807 - acc: 0.8939 - val_loss: 0.2969 - val_acc: 0.8927\n",
            "Epoch 17/20\n",
            "60000/60000 [==============================] - 7s 123us/step - loss: 0.2721 - acc: 0.8994 - val_loss: 0.3010 - val_acc: 0.8893\n",
            "Epoch 18/20\n",
            "60000/60000 [==============================] - 7s 124us/step - loss: 0.2720 - acc: 0.8983 - val_loss: 0.3153 - val_acc: 0.8831\n",
            "Epoch 19/20\n",
            "60000/60000 [==============================] - 7s 124us/step - loss: 0.2695 - acc: 0.8984 - val_loss: 0.2963 - val_acc: 0.8923\n",
            "Epoch 20/20\n",
            "60000/60000 [==============================] - 7s 124us/step - loss: 0.2683 - acc: 0.8998 - val_loss: 0.3028 - val_acc: 0.8890\n"
          ],
          "name": "stdout"
        },
        {
          "output_type": "execute_result",
          "data": {
            "text/plain": [
              "<keras.callbacks.History at 0x7f033d591908>"
            ]
          },
          "metadata": {
            "tags": []
          },
          "execution_count": 36
        }
      ]
    },
    {
      "cell_type": "code",
      "metadata": {
        "id": "5MKPLjbw1tU8",
        "colab_type": "code",
        "colab": {
          "base_uri": "https://localhost:8080/",
          "height": 34
        },
        "outputId": "cff112a4-64ee-48cb-ef56-2fa7c43f00a9"
      },
      "source": [
        "score2=model_2.evaluate(x_test,y_test)"
      ],
      "execution_count": 37,
      "outputs": [
        {
          "output_type": "stream",
          "text": [
            "10000/10000 [==============================] - 1s 112us/step\n"
          ],
          "name": "stdout"
        }
      ]
    },
    {
      "cell_type": "code",
      "metadata": {
        "id": "QiA4MuqV5R2W",
        "colab_type": "code",
        "colab": {
          "base_uri": "https://localhost:8080/",
          "height": 34
        },
        "outputId": "92b85f2e-9c54-4725-d899-b7242e92d562"
      },
      "source": [
        "score2"
      ],
      "execution_count": 38,
      "outputs": [
        {
          "output_type": "execute_result",
          "data": {
            "text/plain": [
              "[0.3028340930223465, 0.889]"
            ]
          },
          "metadata": {
            "tags": []
          },
          "execution_count": 38
        }
      ]
    },
    {
      "cell_type": "code",
      "metadata": {
        "id": "3ivhNbEo5TjO",
        "colab_type": "code",
        "colab": {}
      },
      "source": [
        ""
      ],
      "execution_count": 0,
      "outputs": []
    }
  ]
}
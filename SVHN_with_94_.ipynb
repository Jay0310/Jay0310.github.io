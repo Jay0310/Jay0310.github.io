{
  "nbformat": 4,
  "nbformat_minor": 0,
  "metadata": {
    "colab": {
      "name": "SVHN with 94%.ipynb",
      "provenance": [],
      "collapsed_sections": [],
      "include_colab_link": true
    },
    "kernelspec": {
      "name": "python3",
      "display_name": "Python 3"
    },
    "accelerator": "GPU"
  },
  "cells": [
    {
      "cell_type": "markdown",
      "metadata": {
        "id": "view-in-github",
        "colab_type": "text"
      },
      "source": [
        "<a href=\"https://colab.research.google.com/github/Jay0310/Jay0310.github.io/blob/master/SVHN_with_94_.ipynb\" target=\"_parent\"><img src=\"https://colab.research.google.com/assets/colab-badge.svg\" alt=\"Open In Colab\"/></a>"
      ]
    },
    {
      "cell_type": "code",
      "metadata": {
        "id": "QmcRtUo0TI5m",
        "colab_type": "code",
        "colab": {}
      },
      "source": [
        "import numpy as np\n",
        "import pandas as pd\n",
        "from pandas import Series,DataFrame"
      ],
      "execution_count": 0,
      "outputs": []
    },
    {
      "cell_type": "code",
      "metadata": {
        "id": "2IcZmHT2T_Jp",
        "colab_type": "code",
        "colab": {}
      },
      "source": [
        "import seaborn as sns\n",
        "from scipy.io import loadmat\n",
        "from skimage import color\n",
        "from skimage import io"
      ],
      "execution_count": 0,
      "outputs": []
    },
    {
      "cell_type": "code",
      "metadata": {
        "id": "1dkv_Jb-Uv-M",
        "colab_type": "code",
        "outputId": "0f7465ba-71bb-47ea-882d-d08c96338369",
        "colab": {
          "base_uri": "https://localhost:8080/",
          "height": 121
        }
      },
      "source": [
        "from google.colab import drive\n",
        "drive.mount('/content/drive')"
      ],
      "execution_count": 0,
      "outputs": [
        {
          "output_type": "stream",
          "text": [
            "Go to this URL in a browser: https://accounts.google.com/o/oauth2/auth?client_id=947318989803-6bn6qk8qdgf4n4g3pfee6491hc0brc4i.apps.googleusercontent.com&redirect_uri=urn%3aietf%3awg%3aoauth%3a2.0%3aoob&response_type=code&scope=email%20https%3a%2f%2fwww.googleapis.com%2fauth%2fdocs.test%20https%3a%2f%2fwww.googleapis.com%2fauth%2fdrive%20https%3a%2f%2fwww.googleapis.com%2fauth%2fdrive.photos.readonly%20https%3a%2f%2fwww.googleapis.com%2fauth%2fpeopleapi.readonly\n",
            "\n",
            "Enter your authorization code:\n",
            "··········\n",
            "Mounted at /content/drive\n"
          ],
          "name": "stdout"
        }
      ]
    },
    {
      "cell_type": "code",
      "metadata": {
        "id": "9fMBBKU3UxXi",
        "colab_type": "code",
        "colab": {}
      },
      "source": [
        "def load_data(path):\n",
        "  data=loadmat(path)\n",
        "  return data['X'],data['y']\n",
        "\n",
        "x_train,y_train=load_data(\"/content/drive/My Drive/dataset/train_32x32.mat\")\n"
      ],
      "execution_count": 0,
      "outputs": []
    },
    {
      "cell_type": "code",
      "metadata": {
        "id": "wMv-vLafWVZ8",
        "colab_type": "code",
        "outputId": "741d488d-afb2-49f8-94c4-1845ab52d257",
        "colab": {
          "base_uri": "https://localhost:8080/",
          "height": 34
        }
      },
      "source": [
        "x_train.shape"
      ],
      "execution_count": 0,
      "outputs": [
        {
          "output_type": "execute_result",
          "data": {
            "text/plain": [
              "(32, 32, 3, 73257)"
            ]
          },
          "metadata": {
            "tags": []
          },
          "execution_count": 5
        }
      ]
    },
    {
      "cell_type": "code",
      "metadata": {
        "id": "XTlK1kjMWdhS",
        "colab_type": "code",
        "outputId": "cf63432a-4092-4e72-ee12-88d18a19e26e",
        "colab": {
          "base_uri": "https://localhost:8080/",
          "height": 34
        }
      },
      "source": [
        "y_train.shape"
      ],
      "execution_count": 0,
      "outputs": [
        {
          "output_type": "execute_result",
          "data": {
            "text/plain": [
              "(73257, 1)"
            ]
          },
          "metadata": {
            "tags": []
          },
          "execution_count": 6
        }
      ]
    },
    {
      "cell_type": "code",
      "metadata": {
        "id": "C080oUmgWfuU",
        "colab_type": "code",
        "colab": {}
      },
      "source": [
        "x_test,y_test=load_data(\"/content/drive/My Drive/dataset/test_32x32.mat\")"
      ],
      "execution_count": 0,
      "outputs": []
    },
    {
      "cell_type": "code",
      "metadata": {
        "id": "R_KCkrFaWnW0",
        "colab_type": "code",
        "outputId": "d29dfd24-f4a1-43a4-8a95-f09ed3f5b793",
        "colab": {
          "base_uri": "https://localhost:8080/",
          "height": 34
        }
      },
      "source": [
        "(x_test.shape),(y_test.shape)"
      ],
      "execution_count": 0,
      "outputs": [
        {
          "output_type": "execute_result",
          "data": {
            "text/plain": [
              "((32, 32, 3, 26032), (26032, 1))"
            ]
          },
          "metadata": {
            "tags": []
          },
          "execution_count": 8
        }
      ]
    },
    {
      "cell_type": "code",
      "metadata": {
        "id": "l_q9sSV0Wso6",
        "colab_type": "code",
        "outputId": "ca89a282-4747-43f6-c705-42537eb16f3c",
        "colab": {
          "base_uri": "https://localhost:8080/",
          "height": 79
        }
      },
      "source": [
        "from tensorflow import keras\n",
        "from keras.models import Sequential\n",
        "from keras.layers import Flatten,Dropout,Dense,Activation,MaxPool2D,Conv2D\n",
        "from keras.utils import np_utils"
      ],
      "execution_count": 0,
      "outputs": [
        {
          "output_type": "display_data",
          "data": {
            "text/html": [
              "<p style=\"color: red;\">\n",
              "The default version of TensorFlow in Colab will soon switch to TensorFlow 2.x.<br>\n",
              "We recommend you <a href=\"https://www.tensorflow.org/guide/migrate\" target=\"_blank\">upgrade</a> now \n",
              "or ensure your notebook will continue to use TensorFlow 1.x via the <code>%tensorflow_version 1.x</code> magic:\n",
              "<a href=\"https://colab.research.google.com/notebooks/tensorflow_version.ipynb\" target=\"_blank\">more info</a>.</p>\n"
            ],
            "text/plain": [
              "<IPython.core.display.HTML object>"
            ]
          },
          "metadata": {
            "tags": []
          }
        },
        {
          "output_type": "stream",
          "text": [
            "Using TensorFlow backend.\n"
          ],
          "name": "stderr"
        }
      ]
    },
    {
      "cell_type": "code",
      "metadata": {
        "id": "05mGcUXeXFrz",
        "colab_type": "code",
        "outputId": "82463cf4-b471-40c2-85b2-48d3a87b9980",
        "colab": {
          "base_uri": "https://localhost:8080/",
          "height": 34
        }
      },
      "source": [
        "y_train[0]"
      ],
      "execution_count": 0,
      "outputs": [
        {
          "output_type": "execute_result",
          "data": {
            "text/plain": [
              "array([1], dtype=uint8)"
            ]
          },
          "metadata": {
            "tags": []
          },
          "execution_count": 10
        }
      ]
    },
    {
      "cell_type": "code",
      "metadata": {
        "id": "0Qoinfj-XTgA",
        "colab_type": "code",
        "colab": {}
      },
      "source": [
        "#transposing the image\n",
        "x_train,y_train=x_train.transpose((3,0,1,2)),y_train[:,0]"
      ],
      "execution_count": 0,
      "outputs": []
    },
    {
      "cell_type": "code",
      "metadata": {
        "id": "u615QZauX9G5",
        "colab_type": "code",
        "outputId": "226db732-9237-4ca4-8f2c-8b60128db75e",
        "colab": {
          "base_uri": "https://localhost:8080/",
          "height": 34
        }
      },
      "source": [
        "x_train.shape"
      ],
      "execution_count": 0,
      "outputs": [
        {
          "output_type": "execute_result",
          "data": {
            "text/plain": [
              "(73257, 32, 32, 3)"
            ]
          },
          "metadata": {
            "tags": []
          },
          "execution_count": 12
        }
      ]
    },
    {
      "cell_type": "code",
      "metadata": {
        "id": "1IW_cG28X-ne",
        "colab_type": "code",
        "outputId": "bdbff5d2-ffe4-4661-8f01-7a019b225137",
        "colab": {
          "base_uri": "https://localhost:8080/",
          "height": 34
        }
      },
      "source": [
        "y_train.shape"
      ],
      "execution_count": 0,
      "outputs": [
        {
          "output_type": "execute_result",
          "data": {
            "text/plain": [
              "(73257,)"
            ]
          },
          "metadata": {
            "tags": []
          },
          "execution_count": 13
        }
      ]
    },
    {
      "cell_type": "code",
      "metadata": {
        "id": "g-EIcNKDYAyd",
        "colab_type": "code",
        "colab": {}
      },
      "source": [
        "x_test,y_test=x_test.transpose((3,0,1,2)),y_test[:,0]"
      ],
      "execution_count": 0,
      "outputs": []
    },
    {
      "cell_type": "code",
      "metadata": {
        "id": "sTBRyEthYJtt",
        "colab_type": "code",
        "outputId": "4acc80da-475e-4de8-a56f-8bcf7e6d36e5",
        "colab": {
          "base_uri": "https://localhost:8080/",
          "height": 34
        }
      },
      "source": [
        "x_test.shape"
      ],
      "execution_count": 0,
      "outputs": [
        {
          "output_type": "execute_result",
          "data": {
            "text/plain": [
              "(26032, 32, 32, 3)"
            ]
          },
          "metadata": {
            "tags": []
          },
          "execution_count": 15
        }
      ]
    },
    {
      "cell_type": "code",
      "metadata": {
        "id": "op57vGS0YK8x",
        "colab_type": "code",
        "outputId": "3dbb9145-f52a-4441-905b-8eb19c309e92",
        "colab": {
          "base_uri": "https://localhost:8080/",
          "height": 34
        }
      },
      "source": [
        "y_test.shape"
      ],
      "execution_count": 0,
      "outputs": [
        {
          "output_type": "execute_result",
          "data": {
            "text/plain": [
              "(26032,)"
            ]
          },
          "metadata": {
            "tags": []
          },
          "execution_count": 16
        }
      ]
    },
    {
      "cell_type": "code",
      "metadata": {
        "id": "PZKlnfO4YM-4",
        "colab_type": "code",
        "outputId": "25cc39c9-106c-43d8-b4b4-33956dbda8b0",
        "colab": {
          "base_uri": "https://localhost:8080/",
          "height": 34
        }
      },
      "source": [
        "y_test[0]"
      ],
      "execution_count": 0,
      "outputs": [
        {
          "output_type": "execute_result",
          "data": {
            "text/plain": [
              "5"
            ]
          },
          "metadata": {
            "tags": []
          },
          "execution_count": 17
        }
      ]
    },
    {
      "cell_type": "code",
      "metadata": {
        "id": "KTn9Gl4wYOkl",
        "colab_type": "code",
        "colab": {}
      },
      "source": [
        "def plot_images(img, labels, nrows, ncols):\n",
        "    \"\"\" Plot nrows x ncols images\n",
        "    \"\"\"\n",
        "    fig, axes = plt.subplots(nrows, ncols)\n",
        "    for i, ax in enumerate(axes.flat): \n",
        "        if img[i].shape == (32, 32, 3):\n",
        "            ax.imshow(img[i])\n",
        "        else:\n",
        "            ax.imshow(img[i,:,:,0])\n",
        "        ax.set_xticks([]); ax.set_yticks([])\n"
      ],
      "execution_count": 0,
      "outputs": []
    },
    {
      "cell_type": "code",
      "metadata": {
        "id": "e4mWeZ8-YYqA",
        "colab_type": "code",
        "outputId": "41f01674-31f9-4349-96e3-324f05b62579",
        "colab": {
          "base_uri": "https://localhost:8080/",
          "height": 189
        }
      },
      "source": [
        "import matplotlib.pyplot as plt\n",
        "plot_images(x_train, y_train, 2, 8)\n"
      ],
      "execution_count": 0,
      "outputs": [
        {
          "output_type": "display_data",
          "data": {
            "image/png": "[encoded data removed]",
            "text/plain": [
              "<Figure size 432x288 with 16 Axes>"
            ]
          },
          "metadata": {
            "tags": []
          }
        }
      ]
    },
    {
      "cell_type": "code",
      "metadata": {
        "id": "-95H303iYl8D",
        "colab_type": "code",
        "outputId": "610892f3-426e-4247-ef13-93516d2208d9",
        "colab": {
          "base_uri": "https://localhost:8080/",
          "height": 189
        }
      },
      "source": [
        "plot_images(x_test, y_test, 2, 8)\n"
      ],
      "execution_count": 0,
      "outputs": [
        {
          "output_type": "display_data",
          "data": {
            "image/png": "[encoded data removed]",
            "text/plain": [
              "<Figure size 432x288 with 16 Axes>"
            ]
          },
          "metadata": {
            "tags": []
          }
        }
      ]
    },
    {
      "cell_type": "code",
      "metadata": {
        "id": "oiYyI9-SY2qM",
        "colab_type": "code",
        "outputId": "ed0ffd30-daa6-4713-bcb5-f12ee603a1fe",
        "colab": {
          "base_uri": "https://localhost:8080/",
          "height": 34
        }
      },
      "source": [
        "np.unique(y_train)"
      ],
      "execution_count": 0,
      "outputs": [
        {
          "output_type": "execute_result",
          "data": {
            "text/plain": [
              "array([ 1,  2,  3,  4,  5,  6,  7,  8,  9, 10], dtype=uint8)"
            ]
          },
          "metadata": {
            "tags": []
          },
          "execution_count": 21
        }
      ]
    },
    {
      "cell_type": "code",
      "metadata": {
        "id": "qDKXfCJDZAy9",
        "colab_type": "code",
        "colab": {}
      },
      "source": [
        "#Converting label 10 to 0\n",
        "y_train[y_train==10]=0\n",
        "y_test[y_test==10]=0"
      ],
      "execution_count": 0,
      "outputs": []
    },
    {
      "cell_type": "code",
      "metadata": {
        "id": "y9o4Q_CHZrmN",
        "colab_type": "code",
        "colab": {}
      },
      "source": [
        "y_train=np_utils.to_categorical(y_train,10)\n",
        "y_test=np_utils.to_categorical(y_test,10)"
      ],
      "execution_count": 0,
      "outputs": []
    },
    {
      "cell_type": "code",
      "metadata": {
        "id": "-F6DTdQWyZUk",
        "colab_type": "code",
        "colab": {}
      },
      "source": [
        "from sklearn.model_selection import train_test_split\n",
        "x_tr,x_val,y_tr,y_val=train_test_split(x_train,y_train,test_size=0.3,random_state=0)"
      ],
      "execution_count": 0,
      "outputs": []
    },
    {
      "cell_type": "code",
      "metadata": {
        "id": "XVtjEneByZuR",
        "colab_type": "code",
        "outputId": "44d0cc50-b052-4a4e-ef66-3ad23b083162",
        "colab": {
          "base_uri": "https://localhost:8080/",
          "height": 34
        }
      },
      "source": [
        "(x_tr.shape),(y_tr.shape),(x_val.shape),(y_val.shape)"
      ],
      "execution_count": 0,
      "outputs": [
        {
          "output_type": "execute_result",
          "data": {
            "text/plain": [
              "((51279, 32, 32, 3), (51279, 10), (21978, 32, 32, 3), (21978, 10))"
            ]
          },
          "metadata": {
            "tags": []
          },
          "execution_count": 25
        }
      ]
    },
    {
      "cell_type": "code",
      "metadata": {
        "id": "LE2Y2SywyZ0f",
        "colab_type": "code",
        "colab": {}
      },
      "source": [
        "#Convert RGB to Greyscale\n",
        "def rgb2grey(images):\n",
        "  return np.expand_dims(np.dot(images,[0.2990,0.5870,0.1140]),axis=3)"
      ],
      "execution_count": 0,
      "outputs": []
    },
    {
      "cell_type": "code",
      "metadata": {
        "id": "gQjr_3qQyZ8F",
        "colab_type": "code",
        "colab": {}
      },
      "source": [
        "train_greyscale=rgb2grey(x_tr).astype(np.float32)"
      ],
      "execution_count": 0,
      "outputs": []
    },
    {
      "cell_type": "code",
      "metadata": {
        "id": "KxWNqF3DyaBx",
        "colab_type": "code",
        "colab": {}
      },
      "source": [
        "test_greyscale=rgb2grey(x_test).astype(np.float32)\n",
        "val_greyscale=rgb2grey(x_val).astype(np.float32)"
      ],
      "execution_count": 0,
      "outputs": []
    },
    {
      "cell_type": "code",
      "metadata": {
        "id": "DFlNb0eayZ52",
        "colab_type": "code",
        "outputId": "50562b09-e3d6-4109-a6a1-f5f0e41b2097",
        "colab": {
          "base_uri": "https://localhost:8080/",
          "height": 34
        }
      },
      "source": [
        "(train_greyscale.shape),(test_greyscale.shape),(val_greyscale.shape)"
      ],
      "execution_count": 0,
      "outputs": [
        {
          "output_type": "execute_result",
          "data": {
            "text/plain": [
              "((51279, 32, 32, 1), (26032, 32, 32, 1), (21978, 32, 32, 1))"
            ]
          },
          "metadata": {
            "tags": []
          },
          "execution_count": 29
        }
      ]
    },
    {
      "cell_type": "code",
      "metadata": {
        "id": "HJPuib9p1csG",
        "colab_type": "code",
        "outputId": "02095c8d-1c8b-43b4-8fd0-9e058dc7fd1f",
        "colab": {
          "base_uri": "https://localhost:8080/",
          "height": 63
        }
      },
      "source": [
        "plot_images(train_greyscale,y_tr,1,10)"
      ],
      "execution_count": 0,
      "outputs": [
        {
          "output_type": "display_data",
          "data": {
            "image/png": "[encoded data removed]",
            "text/plain": [
              "<Figure size 432x288 with 10 Axes>"
            ]
          },
          "metadata": {
            "tags": []
          }
        }
      ]
    },
    {
      "cell_type": "code",
      "metadata": {
        "id": "zDdLF2KT2yXz",
        "colab_type": "code",
        "colab": {}
      },
      "source": [
        "#Normalising the data\n",
        "#calculating mean on training data\n",
        "train_mean=np.mean(train_greyscale,axis=0)\n",
        "#calculating std on training data\n",
        "train_std=np.std(train_greyscale,axis=0)\n",
        "#substract it equally\n",
        "train_greyscale_norm = (train_greyscale - train_mean) / train_std\n",
        "test_greyscale_norm = (test_greyscale - train_mean) / train_std\n",
        "val_greyscale_norm = (val_greyscale - train_mean) / train_std"
      ],
      "execution_count": 0,
      "outputs": []
    },
    {
      "cell_type": "code",
      "metadata": {
        "id": "uNkt0DRf2ygQ",
        "colab_type": "code",
        "outputId": "f9e2a56f-ceac-4eeb-be1b-f7c6cdc55337",
        "colab": {
          "base_uri": "https://localhost:8080/",
          "height": 63
        }
      },
      "source": [
        "plot_images(train_greyscale_norm, y_tr,1,10)"
      ],
      "execution_count": 0,
      "outputs": [
        {
          "output_type": "display_data",
          "data": {
            "image/png": "[encoded data removed]",
            "text/plain": [
              "<Figure size 432x288 with 10 Axes>"
            ]
          },
          "metadata": {
            "tags": []
          }
        }
      ]
    },
    {
      "cell_type": "code",
      "metadata": {
        "id": "gXgKMFEH2yro",
        "colab_type": "code",
        "outputId": "27846ae1-4d68-48b0-968f-9359614a103a",
        "colab": {
          "base_uri": "https://localhost:8080/",
          "height": 34
        }
      },
      "source": [
        "(y_tr.shape),(y_test.shape),(y_val.shape)"
      ],
      "execution_count": 0,
      "outputs": [
        {
          "output_type": "execute_result",
          "data": {
            "text/plain": [
              "((51279, 10), (26032, 10), (21978, 10))"
            ]
          },
          "metadata": {
            "tags": []
          },
          "execution_count": 34
        }
      ]
    },
    {
      "cell_type": "code",
      "metadata": {
        "id": "LDUozzPX2yxb",
        "colab_type": "code",
        "colab": {}
      },
      "source": [
        "#Storing the data\n",
        "import h5py\n",
        "\n",
        "# Create file\n",
        "h5f = h5py.File('SVHN_grey.h5', 'w')\n",
        "\n",
        "# Store the datasets\n",
        "h5f.create_dataset('x_tr', data=train_greyscale_norm)\n",
        "h5f.create_dataset('y_tr', data=y_tr)\n",
        "h5f.create_dataset('x_test', data=test_greyscale_norm)\n",
        "h5f.create_dataset('y_test', data=y_test)\n",
        "h5f.create_dataset('x_val', data=val_greyscale_norm)\n",
        "h5f.create_dataset('y_val', data=y_val)\n",
        "\n",
        "# Close the file\n",
        "h5f.close()"
      ],
      "execution_count": 0,
      "outputs": []
    },
    {
      "cell_type": "code",
      "metadata": {
        "id": "j71YS_7vZvlJ",
        "colab_type": "code",
        "colab": {}
      },
      "source": [
        "x_tr=x_tr.astype('float32')\n",
        "x_val=x_val.astype('float32')"
      ],
      "execution_count": 0,
      "outputs": []
    },
    {
      "cell_type": "code",
      "metadata": {
        "id": "FYzFf4IIaS_B",
        "colab_type": "code",
        "colab": {}
      },
      "source": [
        "x_test=x_test.astype('float32')"
      ],
      "execution_count": 0,
      "outputs": []
    },
    {
      "cell_type": "code",
      "metadata": {
        "id": "RO06ZlFoam0x",
        "colab_type": "code",
        "colab": {}
      },
      "source": [
        "x_tr=x_tr/255\n",
        "x_val=x_val/255\n",
        "x_test=x_test/255"
      ],
      "execution_count": 0,
      "outputs": []
    },
    {
      "cell_type": "code",
      "metadata": {
        "id": "uGTBrc7hawwj",
        "colab_type": "code",
        "colab": {}
      },
      "source": [
        "#Building a model\n",
        "batch_size=200\n",
        "nb_epoch=20\n",
        "output_dim=10"
      ],
      "execution_count": 0,
      "outputs": []
    },
    {
      "cell_type": "code",
      "metadata": {
        "id": "uAlqWJN1bFMf",
        "colab_type": "code",
        "colab": {}
      },
      "source": [
        "from keras import backend as K"
      ],
      "execution_count": 0,
      "outputs": []
    },
    {
      "cell_type": "code",
      "metadata": {
        "id": "Qlj0hxH0bk-E",
        "colab_type": "code",
        "outputId": "de255021-3950-43a8-9f58-a9f486e9145f",
        "colab": {
          "base_uri": "https://localhost:8080/",
          "height": 894
        }
      },
      "source": [
        "model=Sequential()\n",
        "#layer 1\n",
        "model.add(Conv2D(64,kernel_size=(3,3),padding='same',activation='relu',input_shape=(32,32,1)))\n",
        "model.add(Conv2D(64,kernel_size=(3,3),activation='relu'))\n",
        "model.add(MaxPool2D(pool_size=(2,2)))\n",
        "model.add(Dropout(0.2))\n",
        "\n",
        "#layer 2\n",
        "model.add(Conv2D(32,kernel_size=(3,3),activation='relu'))\n",
        "model.add(Conv2D(32,kernel_size=(3,3),padding='same'))\n",
        "model.add(MaxPool2D(pool_size=(2,2)))\n",
        "model.add(Dropout(0.2))\n",
        "\n",
        "#layer 3 \n",
        "model.add(Conv2D(32,kernel_size=(3,3),activation='relu'))\n",
        "model.add(Dropout(0.2))\n",
        "\n",
        "model.add(Flatten())\n",
        "model.add(Dense(128,activation='relu'))\n",
        "model.add(Dropout(0.2))\n",
        "model.add(Dense(32,activation='relu'))\n",
        "model.add(Dense(output_dim,activation='softmax'))\n",
        "\n",
        "model.summary()"
      ],
      "execution_count": 0,
      "outputs": [
        {
          "output_type": "stream",
          "text": [
            "WARNING:tensorflow:From /usr/local/lib/python3.6/dist-packages/keras/backend/tensorflow_backend.py:66: The name tf.get_default_graph is deprecated. Please use tf.compat.v1.get_default_graph instead.\n",
            "\n",
            "WARNING:tensorflow:From /usr/local/lib/python3.6/dist-packages/keras/backend/tensorflow_backend.py:541: The name tf.placeholder is deprecated. Please use tf.compat.v1.placeholder instead.\n",
            "\n",
            "WARNING:tensorflow:From /usr/local/lib/python3.6/dist-packages/keras/backend/tensorflow_backend.py:4432: The name tf.random_uniform is deprecated. Please use tf.random.uniform instead.\n",
            "\n",
            "WARNING:tensorflow:From /usr/local/lib/python3.6/dist-packages/keras/backend/tensorflow_backend.py:4267: The name tf.nn.max_pool is deprecated. Please use tf.nn.max_pool2d instead.\n",
            "\n",
            "WARNING:tensorflow:From /usr/local/lib/python3.6/dist-packages/keras/backend/tensorflow_backend.py:148: The name tf.placeholder_with_default is deprecated. Please use tf.compat.v1.placeholder_with_default instead.\n",
            "\n",
            "WARNING:tensorflow:From /usr/local/lib/python3.6/dist-packages/keras/backend/tensorflow_backend.py:3733: calling dropout (from tensorflow.python.ops.nn_ops) with keep_prob is deprecated and will be removed in a future version.\n",
            "Instructions for updating:\n",
            "Please use `rate` instead of `keep_prob`. Rate should be set to `rate = 1 - keep_prob`.\n",
            "Model: \"sequential_1\"\n",
            "_________________________________________________________________\n",
            "Layer (type)                 Output Shape              Param #   \n",
            "=================================================================\n",
            "conv2d_1 (Conv2D)            (None, 32, 32, 64)        640       \n",
            "_________________________________________________________________\n",
            "conv2d_2 (Conv2D)            (None, 30, 30, 64)        36928     \n",
            "_________________________________________________________________\n",
            "max_pooling2d_1 (MaxPooling2 (None, 15, 15, 64)        0         \n",
            "_________________________________________________________________\n",
            "dropout_1 (Dropout)          (None, 15, 15, 64)        0         \n",
            "_________________________________________________________________\n",
            "conv2d_3 (Conv2D)            (None, 13, 13, 32)        18464     \n",
            "_________________________________________________________________\n",
            "conv2d_4 (Conv2D)            (None, 13, 13, 32)        9248      \n",
            "_________________________________________________________________\n",
            "max_pooling2d_2 (MaxPooling2 (None, 6, 6, 32)          0         \n",
            "_________________________________________________________________\n",
            "dropout_2 (Dropout)          (None, 6, 6, 32)          0         \n",
            "_________________________________________________________________\n",
            "conv2d_5 (Conv2D)            (None, 4, 4, 32)          9248      \n",
            "_________________________________________________________________\n",
            "dropout_3 (Dropout)          (None, 4, 4, 32)          0         \n",
            "_________________________________________________________________\n",
            "flatten_1 (Flatten)          (None, 512)               0         \n",
            "_________________________________________________________________\n",
            "dense_1 (Dense)              (None, 128)               65664     \n",
            "_________________________________________________________________\n",
            "dropout_4 (Dropout)          (None, 128)               0         \n",
            "_________________________________________________________________\n",
            "dense_2 (Dense)              (None, 32)                4128      \n",
            "_________________________________________________________________\n",
            "dense_3 (Dense)              (None, 10)                330       \n",
            "=================================================================\n",
            "Total params: 144,650\n",
            "Trainable params: 144,650\n",
            "Non-trainable params: 0\n",
            "_________________________________________________________________\n"
          ],
          "name": "stdout"
        }
      ]
    },
    {
      "cell_type": "code",
      "metadata": {
        "id": "WoDrf26Jf-Gj",
        "colab_type": "code",
        "outputId": "4e4e6e08-814e-420a-eefb-5fcf13fc115c",
        "colab": {
          "base_uri": "https://localhost:8080/",
          "height": 84
        }
      },
      "source": [
        "model.compile(optimizer='adam',loss=\"categorical_crossentropy\",metrics=['accuracy'])"
      ],
      "execution_count": 0,
      "outputs": [
        {
          "output_type": "stream",
          "text": [
            "WARNING:tensorflow:From /usr/local/lib/python3.6/dist-packages/keras/optimizers.py:793: The name tf.train.Optimizer is deprecated. Please use tf.compat.v1.train.Optimizer instead.\n",
            "\n",
            "WARNING:tensorflow:From /usr/local/lib/python3.6/dist-packages/keras/backend/tensorflow_backend.py:3576: The name tf.log is deprecated. Please use tf.math.log instead.\n",
            "\n"
          ],
          "name": "stdout"
        }
      ]
    },
    {
      "cell_type": "code",
      "metadata": {
        "id": "9n3iQIvVguGk",
        "colab_type": "code",
        "outputId": "6f17823d-5753-47eb-d10d-c3858f35483b",
        "colab": {
          "base_uri": "https://localhost:8080/",
          "height": 1000
        }
      },
      "source": [
        "history=model.fit(train_greyscale_norm,y_tr,batch_size=batch_size,epochs=nb_epoch,validation_data=(val_greyscale_norm,y_val))"
      ],
      "execution_count": 0,
      "outputs": [
        {
          "output_type": "stream",
          "text": [
            "WARNING:tensorflow:From /usr/local/lib/python3.6/dist-packages/tensorflow_core/python/ops/math_grad.py:1424: where (from tensorflow.python.ops.array_ops) is deprecated and will be removed in a future version.\n",
            "Instructions for updating:\n",
            "Use tf.where in 2.0, which has the same broadcast rule as np.where\n",
            "WARNING:tensorflow:From /usr/local/lib/python3.6/dist-packages/keras/backend/tensorflow_backend.py:1033: The name tf.assign_add is deprecated. Please use tf.compat.v1.assign_add instead.\n",
            "\n",
            "WARNING:tensorflow:From /usr/local/lib/python3.6/dist-packages/keras/backend/tensorflow_backend.py:1020: The name tf.assign is deprecated. Please use tf.compat.v1.assign instead.\n",
            "\n",
            "WARNING:tensorflow:From /usr/local/lib/python3.6/dist-packages/keras/backend/tensorflow_backend.py:3005: The name tf.Session is deprecated. Please use tf.compat.v1.Session instead.\n",
            "\n",
            "Train on 51279 samples, validate on 21978 samples\n",
            "Epoch 1/20\n",
            "WARNING:tensorflow:From /usr/local/lib/python3.6/dist-packages/keras/backend/tensorflow_backend.py:190: The name tf.get_default_session is deprecated. Please use tf.compat.v1.get_default_session instead.\n",
            "\n",
            "WARNING:tensorflow:From /usr/local/lib/python3.6/dist-packages/keras/backend/tensorflow_backend.py:197: The name tf.ConfigProto is deprecated. Please use tf.compat.v1.ConfigProto instead.\n",
            "\n",
            "WARNING:tensorflow:From /usr/local/lib/python3.6/dist-packages/keras/backend/tensorflow_backend.py:207: The name tf.global_variables is deprecated. Please use tf.compat.v1.global_variables instead.\n",
            "\n",
            "WARNING:tensorflow:From /usr/local/lib/python3.6/dist-packages/keras/backend/tensorflow_backend.py:216: The name tf.is_variable_initialized is deprecated. Please use tf.compat.v1.is_variable_initialized instead.\n",
            "\n",
            "WARNING:tensorflow:From /usr/local/lib/python3.6/dist-packages/keras/backend/tensorflow_backend.py:223: The name tf.variables_initializer is deprecated. Please use tf.compat.v1.variables_initializer instead.\n",
            "\n",
            "51279/51279 [==============================] - 12s 236us/step - loss: 1.2405 - acc: 0.5817 - val_loss: 0.5117 - val_acc: 0.8478\n",
            "Epoch 2/20\n",
            "51279/51279 [==============================] - 4s 82us/step - loss: 0.5364 - acc: 0.8376 - val_loss: 0.3955 - val_acc: 0.8824\n",
            "Epoch 3/20\n",
            "51279/51279 [==============================] - 4s 82us/step - loss: 0.4368 - acc: 0.8671 - val_loss: 0.3551 - val_acc: 0.8972\n",
            "Epoch 4/20\n",
            "51279/51279 [==============================] - 4s 82us/step - loss: 0.3964 - acc: 0.8798 - val_loss: 0.3123 - val_acc: 0.9074\n",
            "Epoch 5/20\n",
            "51279/51279 [==============================] - 4s 82us/step - loss: 0.3632 - acc: 0.8912 - val_loss: 0.3050 - val_acc: 0.9086\n",
            "Epoch 6/20\n",
            "51279/51279 [==============================] - 4s 82us/step - loss: 0.3463 - acc: 0.8965 - val_loss: 0.2999 - val_acc: 0.9115\n",
            "Epoch 7/20\n",
            "51279/51279 [==============================] - 4s 81us/step - loss: 0.3239 - acc: 0.9019 - val_loss: 0.2750 - val_acc: 0.9185\n",
            "Epoch 8/20\n",
            "51279/51279 [==============================] - 4s 82us/step - loss: 0.3103 - acc: 0.9061 - val_loss: 0.2791 - val_acc: 0.9169\n",
            "Epoch 9/20\n",
            "51279/51279 [==============================] - 4s 82us/step - loss: 0.2973 - acc: 0.9117 - val_loss: 0.2626 - val_acc: 0.9249\n",
            "Epoch 10/20\n",
            "51279/51279 [==============================] - 4s 82us/step - loss: 0.2871 - acc: 0.9139 - val_loss: 0.2704 - val_acc: 0.9197\n",
            "Epoch 11/20\n",
            "51279/51279 [==============================] - 4s 82us/step - loss: 0.2760 - acc: 0.9171 - val_loss: 0.2607 - val_acc: 0.9274\n",
            "Epoch 12/20\n",
            "51279/51279 [==============================] - 4s 82us/step - loss: 0.2700 - acc: 0.9193 - val_loss: 0.2547 - val_acc: 0.9252\n",
            "Epoch 13/20\n",
            "51279/51279 [==============================] - 4s 82us/step - loss: 0.2591 - acc: 0.9219 - val_loss: 0.2504 - val_acc: 0.9282\n",
            "Epoch 14/20\n",
            "51279/51279 [==============================] - 4s 82us/step - loss: 0.2523 - acc: 0.9244 - val_loss: 0.2588 - val_acc: 0.9271\n",
            "Epoch 15/20\n",
            "51279/51279 [==============================] - 4s 82us/step - loss: 0.2497 - acc: 0.9254 - val_loss: 0.2535 - val_acc: 0.9278\n",
            "Epoch 16/20\n",
            "51279/51279 [==============================] - 4s 82us/step - loss: 0.2464 - acc: 0.9256 - val_loss: 0.2688 - val_acc: 0.9226\n",
            "Epoch 17/20\n",
            "51279/51279 [==============================] - 4s 82us/step - loss: 0.2376 - acc: 0.9279 - val_loss: 0.2394 - val_acc: 0.9323\n",
            "Epoch 18/20\n",
            "51279/51279 [==============================] - 4s 82us/step - loss: 0.2288 - acc: 0.9325 - val_loss: 0.2424 - val_acc: 0.9335\n",
            "Epoch 19/20\n",
            "51279/51279 [==============================] - 4s 82us/step - loss: 0.2239 - acc: 0.9327 - val_loss: 0.2563 - val_acc: 0.9299\n",
            "Epoch 20/20\n",
            "51279/51279 [==============================] - 4s 83us/step - loss: 0.2229 - acc: 0.9323 - val_loss: 0.2371 - val_acc: 0.9326\n"
          ],
          "name": "stdout"
        }
      ]
    },
    {
      "cell_type": "code",
      "metadata": {
        "id": "zOX4vSrolZ_V",
        "colab_type": "code",
        "outputId": "cc867d99-e5cf-4e44-b7d5-c10770ef3c6f",
        "colab": {
          "base_uri": "https://localhost:8080/",
          "height": 50
        }
      },
      "source": [
        "score=model.evaluate(test_greyscale_norm,y_test)\n",
        "score"
      ],
      "execution_count": 0,
      "outputs": [
        {
          "output_type": "stream",
          "text": [
            "26032/26032 [==============================] - 2s 67us/step\n"
          ],
          "name": "stdout"
        },
        {
          "output_type": "execute_result",
          "data": {
            "text/plain": [
              "[0.2332476703764913, 0.9348494161032576]"
            ]
          },
          "metadata": {
            "tags": []
          },
          "execution_count": 45
        }
      ]
    },
    {
      "cell_type": "code",
      "metadata": {
        "id": "jXyxia-2nCD6",
        "colab_type": "code",
        "colab": {}
      },
      "source": [
        "predict=model.predict(test_greyscale_norm,batch_size=batch_size)"
      ],
      "execution_count": 0,
      "outputs": []
    },
    {
      "cell_type": "code",
      "metadata": {
        "id": "RHHl2ZqSqMl2",
        "colab_type": "code",
        "colab": {}
      },
      "source": [
        "pred=model.predict(test_greyscale_norm[46:47],batch_size=batch_size)"
      ],
      "execution_count": 0,
      "outputs": []
    },
    {
      "cell_type": "code",
      "metadata": {
        "id": "ncwSso6cqO0R",
        "colab_type": "code",
        "outputId": "46039a8c-0f37-4950-8c3f-b08300c2ffa7",
        "colab": {
          "base_uri": "https://localhost:8080/",
          "height": 67
        }
      },
      "source": [
        "pred"
      ],
      "execution_count": 0,
      "outputs": [
        {
          "output_type": "execute_result",
          "data": {
            "text/plain": [
              "array([[7.7760382e-07, 9.9981445e-01, 2.6092759e-05, 7.9828387e-05,\n",
              "        3.6918587e-05, 1.0945405e-05, 4.3170766e-07, 1.9853789e-05,\n",
              "        1.3894437e-06, 9.2680521e-06]], dtype=float32)"
            ]
          },
          "metadata": {
            "tags": []
          },
          "execution_count": 50
        }
      ]
    },
    {
      "cell_type": "code",
      "metadata": {
        "id": "JflKvjOQ73QX",
        "colab_type": "code",
        "outputId": "e49630ec-7656-4168-b8c6-5edfed92296d",
        "colab": {
          "base_uri": "https://localhost:8080/",
          "height": 235
        }
      },
      "source": [
        "predict"
      ],
      "execution_count": 0,
      "outputs": [
        {
          "output_type": "execute_result",
          "data": {
            "text/plain": [
              "array([[4.46454360e-05, 6.13564116e-05, 1.23980292e-03, ...,\n",
              "        2.48313043e-03, 2.10992112e-05, 1.68699946e-04],\n",
              "       [9.06622972e-07, 3.18114107e-05, 9.99874830e-01, ...,\n",
              "        1.36396156e-05, 8.75671958e-06, 3.27321286e-05],\n",
              "       [2.58118991e-04, 9.94089365e-01, 3.70402908e-04, ...,\n",
              "        5.61802372e-05, 1.99569826e-04, 1.60432501e-05],\n",
              "       ...,\n",
              "       [1.95107186e-05, 3.93159175e-03, 1.11443445e-03, ...,\n",
              "        9.93045032e-01, 1.20686252e-06, 9.12270567e-04],\n",
              "       [9.55245108e-04, 3.86596366e-04, 7.94629086e-05, ...,\n",
              "        1.21158555e-05, 1.21666980e-03, 3.10466680e-06],\n",
              "       [5.27729862e-05, 9.45170037e-03, 3.94858042e-04, ...,\n",
              "        9.89923060e-01, 7.55465237e-07, 5.20180220e-05]], dtype=float32)"
            ]
          },
          "metadata": {
            "tags": []
          },
          "execution_count": 59
        }
      ]
    },
    {
      "cell_type": "code",
      "metadata": {
        "id": "lojejHOR8eBc",
        "colab_type": "code",
        "outputId": "030d13d6-a1d3-4446-d619-466fb0fd5186",
        "colab": {
          "base_uri": "https://localhost:8080/",
          "height": 34
        }
      },
      "source": [
        "y_test[22]"
      ],
      "execution_count": 0,
      "outputs": [
        {
          "output_type": "execute_result",
          "data": {
            "text/plain": [
              "array([0., 1., 0., 0., 0., 0., 0., 0., 0., 0.], dtype=float32)"
            ]
          },
          "metadata": {
            "tags": []
          },
          "execution_count": 65
        }
      ]
    },
    {
      "cell_type": "code",
      "metadata": {
        "id": "DZ0i0lJB8lTX",
        "colab_type": "code",
        "outputId": "a0e1000a-f4e5-4b69-bd51-8043e4bced88",
        "colab": {
          "base_uri": "https://localhost:8080/",
          "height": 67
        }
      },
      "source": [
        "predict[22]"
      ],
      "execution_count": 0,
      "outputs": [
        {
          "output_type": "execute_result",
          "data": {
            "text/plain": [
              "array([9.2349346e-06, 9.9868280e-01, 1.5254591e-04, 2.8327692e-04,\n",
              "       3.9785323e-04, 2.5179391e-04, 9.9696794e-05, 3.9872572e-05,\n",
              "       5.8017016e-05, 2.4897279e-05], dtype=float32)"
            ]
          },
          "metadata": {
            "tags": []
          },
          "execution_count": 66
        }
      ]
    },
    {
      "cell_type": "code",
      "metadata": {
        "id": "CGLSZ5ei8rg1",
        "colab_type": "code",
        "colab": {}
      },
      "source": [
        ""
      ],
      "execution_count": 0,
      "outputs": []
    }
  ]
}
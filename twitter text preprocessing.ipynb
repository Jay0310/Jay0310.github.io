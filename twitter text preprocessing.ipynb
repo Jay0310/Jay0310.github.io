{
 "cells": [
  {
   "cell_type": "code",
   "execution_count": 1,
   "metadata": {},
   "outputs": [],
   "source": [
    "import numpy as np\n",
    "import pandas as pd\n",
    "from pandas import Series,DataFrame\n",
    "import matplotlib.pyplot as plt\n",
    "import re\n",
    "import string\n",
    "import nltk\n",
    "import seaborn as sns \n",
    "from nltk.corpus import stopwords\n",
    "from nltk.stem import WordNetLemmatizer\n",
    "from nltk.stem.porter import PorterStemmer\n",
    "from bs4 import BeautifulSoup\n",
    "from nltk.tokenize import RegexpTokenizer"
   ]
  },
  {
   "cell_type": "code",
   "execution_count": 2,
   "metadata": {},
   "outputs": [
    {
     "data": {
      "text/html": [
       "<div>\n",
       "<style scoped>\n",
       "    .dataframe tbody tr th:only-of-type {\n",
       "        vertical-align: middle;\n",
       "    }\n",
       "\n",
       "    .dataframe tbody tr th {\n",
       "        vertical-align: top;\n",
       "    }\n",
       "\n",
       "    .dataframe thead th {\n",
       "        text-align: right;\n",
       "    }\n",
       "</style>\n",
       "<table border=\"1\" class=\"dataframe\">\n",
       "  <thead>\n",
       "    <tr style=\"text-align: right;\">\n",
       "      <th></th>\n",
       "      <th>id</th>\n",
       "      <th>label</th>\n",
       "      <th>tweet</th>\n",
       "    </tr>\n",
       "  </thead>\n",
       "  <tbody>\n",
       "    <tr>\n",
       "      <th>0</th>\n",
       "      <td>1</td>\n",
       "      <td>0</td>\n",
       "      <td>#fingerprint #Pregnancy Test https://goo.gl/h1...</td>\n",
       "    </tr>\n",
       "    <tr>\n",
       "      <th>1</th>\n",
       "      <td>2</td>\n",
       "      <td>0</td>\n",
       "      <td>Finally a transparant silicon case ^^ Thanks t...</td>\n",
       "    </tr>\n",
       "    <tr>\n",
       "      <th>2</th>\n",
       "      <td>3</td>\n",
       "      <td>0</td>\n",
       "      <td>We love this! Would you go? #talk #makememorie...</td>\n",
       "    </tr>\n",
       "    <tr>\n",
       "      <th>3</th>\n",
       "      <td>4</td>\n",
       "      <td>0</td>\n",
       "      <td>I'm wired I know I'm George I was made that wa...</td>\n",
       "    </tr>\n",
       "    <tr>\n",
       "      <th>4</th>\n",
       "      <td>5</td>\n",
       "      <td>1</td>\n",
       "      <td>What amazing service! Apple won't even talk to...</td>\n",
       "    </tr>\n",
       "  </tbody>\n",
       "</table>\n",
       "</div>"
      ],
      "text/plain": [
       "   id  label                                              tweet\n",
       "0   1      0  #fingerprint #Pregnancy Test https://goo.gl/h1...\n",
       "1   2      0  Finally a transparant silicon case ^^ Thanks t...\n",
       "2   3      0  We love this! Would you go? #talk #makememorie...\n",
       "3   4      0  I'm wired I know I'm George I was made that wa...\n",
       "4   5      1  What amazing service! Apple won't even talk to..."
      ]
     },
     "execution_count": 2,
     "metadata": {},
     "output_type": "execute_result"
    }
   ],
   "source": [
    "train=pd.read_csv('train.csv')\n",
    "train.head()"
   ]
  },
  {
   "cell_type": "code",
   "execution_count": 3,
   "metadata": {},
   "outputs": [
    {
     "name": "stdout",
     "output_type": "stream",
     "text": [
      "Happy Founders Day #holiday #iphone #smile #shades #glasses #gh #ghana #chilling http://instagram.com/p/tQHyJlOK5G/\n"
     ]
    }
   ],
   "source": [
    "sent_4000=train['tweet'].values[4000]\n",
    "print(sent_4000)"
   ]
  },
  {
   "cell_type": "code",
   "execution_count": 4,
   "metadata": {},
   "outputs": [
    {
     "data": {
      "text/plain": [
       "(7920, 3)"
      ]
     },
     "execution_count": 4,
     "metadata": {},
     "output_type": "execute_result"
    }
   ],
   "source": [
    "train.shape"
   ]
  },
  {
   "cell_type": "code",
   "execution_count": 5,
   "metadata": {},
   "outputs": [],
   "source": [
    "#converting into lower case\n",
    "train['tidy_tweet']=train['tweet'].apply(lambda x:x.lower())"
   ]
  },
  {
   "cell_type": "code",
   "execution_count": 6,
   "metadata": {},
   "outputs": [
    {
     "data": {
      "text/html": [
       "<div>\n",
       "<style scoped>\n",
       "    .dataframe tbody tr th:only-of-type {\n",
       "        vertical-align: middle;\n",
       "    }\n",
       "\n",
       "    .dataframe tbody tr th {\n",
       "        vertical-align: top;\n",
       "    }\n",
       "\n",
       "    .dataframe thead th {\n",
       "        text-align: right;\n",
       "    }\n",
       "</style>\n",
       "<table border=\"1\" class=\"dataframe\">\n",
       "  <thead>\n",
       "    <tr style=\"text-align: right;\">\n",
       "      <th></th>\n",
       "      <th>id</th>\n",
       "      <th>label</th>\n",
       "      <th>tweet</th>\n",
       "      <th>tidy_tweet</th>\n",
       "    </tr>\n",
       "  </thead>\n",
       "  <tbody>\n",
       "    <tr>\n",
       "      <th>0</th>\n",
       "      <td>1</td>\n",
       "      <td>0</td>\n",
       "      <td>#fingerprint #Pregnancy Test https://goo.gl/h1...</td>\n",
       "      <td>#fingerprint #pregnancy test https://goo.gl/h1...</td>\n",
       "    </tr>\n",
       "    <tr>\n",
       "      <th>1</th>\n",
       "      <td>2</td>\n",
       "      <td>0</td>\n",
       "      <td>Finally a transparant silicon case ^^ Thanks t...</td>\n",
       "      <td>finally a transparant silicon case ^^ thanks t...</td>\n",
       "    </tr>\n",
       "    <tr>\n",
       "      <th>2</th>\n",
       "      <td>3</td>\n",
       "      <td>0</td>\n",
       "      <td>We love this! Would you go? #talk #makememorie...</td>\n",
       "      <td>we love this! would you go? #talk #makememorie...</td>\n",
       "    </tr>\n",
       "    <tr>\n",
       "      <th>3</th>\n",
       "      <td>4</td>\n",
       "      <td>0</td>\n",
       "      <td>I'm wired I know I'm George I was made that wa...</td>\n",
       "      <td>i'm wired i know i'm george i was made that wa...</td>\n",
       "    </tr>\n",
       "    <tr>\n",
       "      <th>4</th>\n",
       "      <td>5</td>\n",
       "      <td>1</td>\n",
       "      <td>What amazing service! Apple won't even talk to...</td>\n",
       "      <td>what amazing service! apple won't even talk to...</td>\n",
       "    </tr>\n",
       "  </tbody>\n",
       "</table>\n",
       "</div>"
      ],
      "text/plain": [
       "   id  label                                              tweet  \\\n",
       "0   1      0  #fingerprint #Pregnancy Test https://goo.gl/h1...   \n",
       "1   2      0  Finally a transparant silicon case ^^ Thanks t...   \n",
       "2   3      0  We love this! Would you go? #talk #makememorie...   \n",
       "3   4      0  I'm wired I know I'm George I was made that wa...   \n",
       "4   5      1  What amazing service! Apple won't even talk to...   \n",
       "\n",
       "                                          tidy_tweet  \n",
       "0  #fingerprint #pregnancy test https://goo.gl/h1...  \n",
       "1  finally a transparant silicon case ^^ thanks t...  \n",
       "2  we love this! would you go? #talk #makememorie...  \n",
       "3  i'm wired i know i'm george i was made that wa...  \n",
       "4  what amazing service! apple won't even talk to...  "
      ]
     },
     "execution_count": 6,
     "metadata": {},
     "output_type": "execute_result"
    }
   ],
   "source": [
    "train.head()"
   ]
  },
  {
   "cell_type": "code",
   "execution_count": 7,
   "metadata": {},
   "outputs": [],
   "source": [
    "#Removing the html tags\n",
    "def remove_html_tags(text):\n",
    "    soup=BeautifulSoup(text,'lxml')\n",
    "    html_free=soup.get_text()\n",
    "    return html_free"
   ]
  },
  {
   "cell_type": "code",
   "execution_count": 8,
   "metadata": {},
   "outputs": [],
   "source": [
    "#Removing @users\n",
    "def remove_pattern(input_txt, pattern):\n",
    "    r = re.findall(pattern, input_txt)\n",
    "    for i in r:\n",
    "        input_txt = re.sub(i, '', input_txt)\n",
    "        \n",
    "    return input_txt    "
   ]
  },
  {
   "cell_type": "code",
   "execution_count": 9,
   "metadata": {},
   "outputs": [],
   "source": [
    "train['tidy_tweet']=np.vectorize(remove_pattern)(train['tidy_tweet'],'@[\\w]*')"
   ]
  },
  {
   "cell_type": "code",
   "execution_count": 10,
   "metadata": {},
   "outputs": [
    {
     "name": "stdout",
     "output_type": "stream",
     "text": [
      "[\"too bad  doesn't carry any #lumia devices but at least i was able to pick up a #samsung ativ s neo #windowsphone\"\n",
      " 'we would like to wish you an amazing day! make every minute count #tls #today #iphone #accessories #news #life july 10, 2017 at 07:00…'\n",
      " 'my ipads new home :) #ipad #leopardprint #neon #ipad3 #apple http://instagram.com/p/hqkb2ssujl/'\n",
      " 'my #iphone #apps i can listen to drive time hip hop from nyc whilst peeling potatoes in my kitchen!!'\n",
      " '#dissatisfied #apple #iphone6splus not for runners, it has issues with filter in camera sweat through #incasearmband'\n",
      " 'he loves the fuck outta me.  #$&*# #imessage #iphone #text #gay #hesa$&*# http://instagram.com/p/aitqo5r6la/'\n",
      " 'she is as ready as i am to do this! #chromebook #samsung #hellokitty #diamond #shine #ready http://instagram.com/p/jnmhgynfq_/'\n",
      " 'beach group text. #beach #ocean #cellphone #friends #trio #iphone  karebear5891 http://instagram.com/p/fndf5bp6lm/'\n",
      " 'at last i have my #apple watch 42mm space black stainless steel #excited #overthemoon #didalittleweepic.twitter.com/zznj908fjw'\n",
      " 'i (l) ny :). #hug #follow #like #iphone #tattoo #christmas #beautiful #newyork http://instagr.am/p/cyraz/'\n",
      " '  id totally fuck siri her knowledge excites me. siri #fuckinsiri'\n",
      " 'lol i love my iphone rt:to #apple who fuckedup the i-phone4 u know what u about to get oh yes pow /via '\n",
      " 'photo: my new macbook air is installed and ready to perform. #apple #pepsimax #ddb (taken with... http://tmblr.co/zxq6zysnslur'\n",
      " 'throw your worries be fit and fab! #marjdiary #samsung #fit #fabolous #smile #stayhealthy… https://instagram.com/p/1e96moblcz/'\n",
      " 'samsung galaxy s9+ plus dual sim g965fd 6gb ram 256b black http://zpr.io/6psxm http://zpr.io/6nxjm #florida #money #today #life #twitch #retweet #twitter #birthday #sale #android #windows #nokia #samsung #iphone #phone #smartphone #motorola #lg #sony #offers #best'\n",
      " 'new phone...... yes please :) been without a phone is death taking hold. #sony #sorrysamsung'\n",
      " 'speed wifi+3g+4g 2016 https://goo.gl/qmdlxq #android #apps #unitedstate #cute #colors #igers #iphoneonly #guitarplayer #iphone'\n",
      " '219€99 samsung gear s2 etat: comme neuve #samsung #gears2 #prixhappy #occasion #cash… https://www.instagram.com/p/birlq-njggo/'\n",
      " ' my #iphone but why would you trade a computer for just a smart phone #galaxynote is #sexy'\n",
      " 'mac os http://mail.app on hight sierra is a buggy little crap. #jobsdead #applenofuture'\n",
      " 'why when i send a calendar event invite to a exchange user, the user cant accept it? icloud vs exchange #apple #iphone'\n",
      " \"i like iphone only because i get to play games lol i love 'angry birds' #iphone #gam http://www.linkati.com/q/index.php?i=666227\"\n",
      " 'my phone keeps freezing whenever i go to end a call. iphone'\n",
      " \"ever since i updated my phone. it's been fucking up. #$&*# #apple #iphoneproblems appleofficlal\"\n",
      " '#chicwithatwist team #ootd #mixandmatch #urban #style #expressyourselfie #workshopping #samsung #galaxya... http://fb.me/2qi5n7kce'\n",
      " \"i've been trying for 2 hours to sync my ipod, i give up.\"\n",
      " \"conversations with my sister. i wouldn't swap her! :) #sister #text #imessage #iphone #chat… https://instagram.com/p/5ldm7ihp-5/\"\n",
      " 'small and blue — steemit https://steemit.com/photography//6pj2fa-small-and-blue … #blue #small #life #story #blog #try #nature #naturephotos #bug #blue #color #colors #photo #photos #photography #sony #sonylens #lens #sonyphotography #image #images #photofeed #feed #follow #home #gr$&*# #grassland #land'\n",
      " 'photo: oh yeah!  #pretty #cute #gorgeous #beauty #ig #iphone #ignation #instahub... http://tmblr.co/zonpawpp-u4k'\n",
      " 'just bought something kahapon :) #walkman #sony xempre with orange headset haha!'\n",
      " 'shadesofmoonlight: #me #dress #party #alcohol #night #heels #iphone #legs #stripes http://tmblr.co/z_tkuvc8ht9s'\n",
      " \"i am actually about to cry that i couldn't screenshot that snapchat because my lock button is broken apple\"\n",
      " 'my egg speaker :d #speaker #egg #awesome #music #ipod #apple #school #chillings #relax … http://instagram.com/p/dw4bmwd6ch/'\n",
      " 'be #reallyreal app approved for #iphone #ipad #dating #college http://reallyreal.com/ #college #vc #singlepic.twitter.com/0d9dzq0cxo'\n",
      " '#mychristmaswish is the same as last year. for all my other wishes to come true of course. #fame #friends #chocolate #food #iphone'\n",
      " 'i swear....if the iphone update just erased everything on my phone. im gunna flip shit.'\n",
      " 'yes itunes take your time and not put my songs on my ipod. #wishishadagalaxy'\n",
      " ' just trying to help :) #iphone #majority #usa #help #adore'\n",
      " 'getting emails with pictures like this make my life. #iphone #instagram #nofilter #cute #christmas #popular http://instagr.am/p/xp6b1/'\n",
      " \"i my #iphone's wallpaper so much !! it's full of constellation at the milk way !!   want me to bump ?\"\n",
      " 'this drink is amazing #fruits #apple #cherry #purple #tasty #drink #sun #garden http://instagram.com/p/dwai0rliea/'\n",
      " 'blocky cars - http://greenrobot-apps.net/4055-blocky-cars-sozday-gonochnyy-bolid.html … #андроид #android #games #news #ios #apple #iphone'\n",
      " 'hey guys! look new-motorola-moto-e-xt1524-2nd-gen-8gb-simfree http://zpr.io/nv7mc #money #today #life #twitch #birthday #sale #android #windows #nokia #samsung #iphone #phone #smartphone #motorola #offers #bestprice jun 16, 2018 02:00am'\n",
      " 'cant unlock samsung galaxy ace cause its about as good as a blackberry, although i managed to unlock that! #samsung #vodafone'\n",
      " 'look what mommy got 4 me :-p #igers #ipad #apple #mom #gifts #instahub #instadaily #blessed #fo http://instagr.am/p/uor2uoh6c0/']\n"
     ]
    }
   ],
   "source": [
    "sent_207=train['tidy_tweet'].values[205:250]\n",
    "print(sent_207)"
   ]
  },
  {
   "cell_type": "code",
   "execution_count": 11,
   "metadata": {},
   "outputs": [],
   "source": [
    "def cleaning(text):\n",
    "\n",
    "    import string\n",
    "    exclude = set(string.punctuation)\n",
    "\n",
    "    import re\n",
    "    # remove new line and digits with regular expression\n",
    "    text = re.sub(r'\\n', '', text)\n",
    "    text = re.sub(r'\\d', '', text)\n",
    "    # remove patterns matching url format\n",
    "    url_pattern = r'((http|ftp|https):\\/\\/)?[\\w\\-_]+(\\.[\\w\\-_]+)+([\\w\\-\\.,@?^=%&amp;:/~\\+#]*[\\w\\-\\@?^=%&amp;/~\\+#])?'\n",
    "    text = re.sub(url_pattern, ' ', text)\n",
    "    # remove non-ascii characters\n",
    "    text = ''.join(character for character in text if ord(character) < 128)\n",
    "    # remove punctuations\n",
    "    text = ''.join(character for character in text if character not in exclude)\n",
    "    # standardize white space\n",
    "    text = re.sub(r'\\s+', ' ', text)\n",
    "    # drop capitalization\n",
    "    text = text.lower()\n",
    "    #remove white space\n",
    "    text = text.strip()\n",
    "\n",
    "    return text"
   ]
  },
  {
   "cell_type": "code",
   "execution_count": 12,
   "metadata": {},
   "outputs": [],
   "source": [
    "train['tidy_tweet']=train['tidy_tweet'].apply(lambda x : cleaning(x))"
   ]
  },
  {
   "cell_type": "code",
   "execution_count": 13,
   "metadata": {},
   "outputs": [
    {
     "data": {
      "text/plain": [
       "array(['too bad doesnt carry any lumia devices but at least i was able to pick up a samsung ativ s neo windowsphone',\n",
       "       'we would like to wish you an amazing day make every minute count tls today iphone accessories news life july at',\n",
       "       'my ipads new home ipad leopardprint neon ipad apple',\n",
       "       'my iphone apps i can listen to drive time hip hop from nyc whilst peeling potatoes in my kitchen',\n",
       "       'dissatisfied apple iphonesplus not for runners it has issues with filter in camera sweat through incasearmband',\n",
       "       'he loves the fuck outta me imessage iphone text gay hesa',\n",
       "       'she is as ready as i am to do this chromebook samsung hellokitty diamond shine ready',\n",
       "       'beach group text beach ocean cellphone friends trio iphone karebear',\n",
       "       'at last i have my apple watch mm space black stainless steel excited overthemoon',\n",
       "       'i l ny hug follow like iphone tattoo christmas beautiful newyork',\n",
       "       'id totally fuck siri her knowledge excites me siri fuckinsiri',\n",
       "       'lol i love my iphone rtto apple who fuckedup the iphone u know what u about to get oh yes pow via',\n",
       "       'photo my new macbook air is installed and ready to perform apple pepsimax ddb taken with',\n",
       "       'throw your worries be fit and fab marjdiary samsung fit fabolous smile stayhealthy',\n",
       "       'samsung galaxy s plus dual sim gfd gb ram b black florida money today life twitch retweet twitter birthday sale android windows nokia samsung iphone phone smartphone motorola lg sony offers best',\n",
       "       'new phone yes please been without a phone is death taking hold sony sorrysamsung',\n",
       "       'speed wifigg android apps unitedstate cute colors igers iphoneonly guitarplayer iphone',\n",
       "       'samsung gear s etat comme neuve samsung gears prixhappy occasion cash',\n",
       "       'my iphone but why would you trade a computer for just a smart phone galaxynote is sexy',\n",
       "       'mac os on hight sierra is a buggy little crap jobsdead applenofuture',\n",
       "       'why when i send a calendar event invite to a exchange user the user cant accept it icloud vs exchange apple iphone',\n",
       "       'i like iphone only because i get to play games lol i love angry birds iphone gam',\n",
       "       'my phone keeps freezing whenever i go to end a call iphone',\n",
       "       'ever since i updated my phone its been fucking up apple iphoneproblems appleofficlal',\n",
       "       'chicwithatwist team ootd mixandmatch urban style expressyourselfie workshopping samsung galaxya',\n",
       "       'ive been trying for hours to sync my ipod i give up',\n",
       "       'conversations with my sister i wouldnt swap her sister text imessage iphone chat',\n",
       "       'small and blue steemit blue small life story blog try nature naturephotos bug blue color colors photo photos photography sony sonylens lens sonyphotography image images photofeed feed follow home gr grassland land',\n",
       "       'photo oh yeah pretty cute gorgeous beauty ig iphone ignation instahub',\n",
       "       'just bought something kahapon walkman sony xempre with orange headset haha',\n",
       "       'shadesofmoonlight me dress party alcohol night heels iphone legs stripes',\n",
       "       'i am actually about to cry that i couldnt screenshot that snapchat because my lock button is broken apple',\n",
       "       'my egg speaker d speaker egg awesome music ipod apple school chillings relax',\n",
       "       'be reallyreal app approved for iphone ipad dating college college vc',\n",
       "       'mychristmaswish is the same as last year for all my other wishes to come true of course fame friends chocolate food iphone',\n",
       "       'i swearif the iphone update just erased everything on my phone im gunna flip shit',\n",
       "       'yes itunes take your time and not put my songs on my ipod wishishadagalaxy',\n",
       "       'just trying to help iphone majority usa help adore',\n",
       "       'getting emails with pictures like this make my life iphone instagram nofilter cute christmas popular',\n",
       "       'i my iphones wallpaper so much its full of constellation at the milk way want me to bump',\n",
       "       'this drink is amazing fruits apple cherry purple tasty drink sun garden',\n",
       "       'blocky cars android games news ios apple iphone',\n",
       "       'hey guys look newmotorolamotoextndgengbsimfree money today life twitch birthday sale android windows nokia samsung iphone phone smartphone motorola offers bestprice jun am',\n",
       "       'cant unlock samsung galaxy ace cause its about as good as a blackberry although i managed to unlock that samsung vodafone',\n",
       "       'look what mommy got me p igers ipad apple mom gifts instahub instadaily blessed fo'],\n",
       "      dtype=object)"
      ]
     },
     "execution_count": 13,
     "metadata": {},
     "output_type": "execute_result"
    }
   ],
   "source": [
    "train['tidy_tweet'].values[205:250]"
   ]
  },
  {
   "cell_type": "code",
   "execution_count": 15,
   "metadata": {},
   "outputs": [],
   "source": [
    "#removing the short word of len>2\n",
    "train['tidy_tweet']=train['tidy_tweet'].apply(lambda x:' '.join([w for w in x.split() if len(w)>2]))"
   ]
  },
  {
   "cell_type": "code",
   "execution_count": 16,
   "metadata": {},
   "outputs": [
    {
     "data": {
      "text/plain": [
       "array(['too bad doesnt carry any lumia devices but least was able pick samsung ativ neo windowsphone',\n",
       "       'would like wish you amazing day make every minute count tls today iphone accessories news life july',\n",
       "       'ipads new home ipad leopardprint neon ipad apple',\n",
       "       'iphone apps can listen drive time hip hop from nyc whilst peeling potatoes kitchen',\n",
       "       'dissatisfied apple iphonesplus not for runners has issues with filter camera sweat through incasearmband',\n",
       "       'loves the fuck outta imessage iphone text gay hesa',\n",
       "       'she ready this chromebook samsung hellokitty diamond shine ready',\n",
       "       'beach group text beach ocean cellphone friends trio iphone karebear',\n",
       "       'last have apple watch space black stainless steel excited overthemoon',\n",
       "       'hug follow like iphone tattoo christmas beautiful newyork',\n",
       "       'totally fuck siri her knowledge excites siri fuckinsiri',\n",
       "       'lol love iphone rtto apple who fuckedup the iphone know what about get yes pow via',\n",
       "       'photo new macbook air installed and ready perform apple pepsimax ddb taken with',\n",
       "       'throw your worries fit and fab marjdiary samsung fit fabolous smile stayhealthy',\n",
       "       'samsung galaxy plus dual sim gfd ram black florida money today life twitch retweet twitter birthday sale android windows nokia samsung iphone phone smartphone motorola sony offers best',\n",
       "       'new phone yes please been without phone death taking hold sony sorrysamsung',\n",
       "       'speed wifigg android apps unitedstate cute colors igers iphoneonly guitarplayer iphone',\n",
       "       'samsung gear etat comme neuve samsung gears prixhappy occasion cash',\n",
       "       'iphone but why would you trade computer for just smart phone galaxynote sexy',\n",
       "       'mac hight sierra buggy little crap jobsdead applenofuture',\n",
       "       'why when send calendar event invite exchange user the user cant accept icloud exchange apple iphone',\n",
       "       'like iphone only because get play games lol love angry birds iphone gam',\n",
       "       'phone keeps freezing whenever end call iphone',\n",
       "       'ever since updated phone its been fucking apple iphoneproblems appleofficlal',\n",
       "       'chicwithatwist team ootd mixandmatch urban style expressyourselfie workshopping samsung galaxya',\n",
       "       'ive been trying for hours sync ipod give',\n",
       "       'conversations with sister wouldnt swap her sister text imessage iphone chat',\n",
       "       'small and blue steemit blue small life story blog try nature naturephotos bug blue color colors photo photos photography sony sonylens lens sonyphotography image images photofeed feed follow home grassland land',\n",
       "       'photo yeah pretty cute gorgeous beauty iphone ignation instahub',\n",
       "       'just bought something kahapon walkman sony xempre with orange headset haha',\n",
       "       'shadesofmoonlight dress party alcohol night heels iphone legs stripes',\n",
       "       'actually about cry that couldnt screenshot that snapchat because lock button broken apple',\n",
       "       'egg speaker speaker egg awesome music ipod apple school chillings relax',\n",
       "       'reallyreal app approved for iphone ipad dating college college',\n",
       "       'mychristmaswish the same last year for all other wishes come true course fame friends chocolate food iphone',\n",
       "       'swearif the iphone update just erased everything phone gunna flip shit',\n",
       "       'yes itunes take your time and not put songs ipod wishishadagalaxy',\n",
       "       'just trying help iphone majority usa help adore',\n",
       "       'getting emails with pictures like this make life iphone instagram nofilter cute christmas popular',\n",
       "       'iphones wallpaper much its full constellation the milk way want bump',\n",
       "       'this drink amazing fruits apple cherry purple tasty drink sun garden',\n",
       "       'blocky cars android games news ios apple iphone',\n",
       "       'hey guys look newmotorolamotoextndgengbsimfree money today life twitch birthday sale android windows nokia samsung iphone phone smartphone motorola offers bestprice jun',\n",
       "       'cant unlock samsung galaxy ace cause its about good blackberry although managed unlock that samsung vodafone',\n",
       "       'look what mommy got igers ipad apple mom gifts instahub instadaily blessed'],\n",
       "      dtype=object)"
      ]
     },
     "execution_count": 16,
     "metadata": {},
     "output_type": "execute_result"
    }
   ],
   "source": [
    "train['tidy_tweet'].values[205:250]"
   ]
  },
  {
   "cell_type": "code",
   "execution_count": 17,
   "metadata": {},
   "outputs": [],
   "source": [
    "#tokenizing\n",
    "tokenizer=RegexpTokenizer(r'\\w+')"
   ]
  },
  {
   "cell_type": "code",
   "execution_count": 18,
   "metadata": {},
   "outputs": [],
   "source": [
    "train['tidy_tweet']=train['tidy_tweet'].apply(lambda x:tokenizer.tokenize(x.lower()))"
   ]
  },
  {
   "cell_type": "code",
   "execution_count": 19,
   "metadata": {},
   "outputs": [
    {
     "data": {
      "text/plain": [
       "array([list(['too', 'bad', 'doesnt', 'carry', 'any', 'lumia', 'devices', 'but', 'least', 'was', 'able', 'pick', 'samsung', 'ativ', 'neo', 'windowsphone']),\n",
       "       list(['would', 'like', 'wish', 'you', 'amazing', 'day', 'make', 'every', 'minute', 'count', 'tls', 'today', 'iphone', 'accessories', 'news', 'life', 'july']),\n",
       "       list(['ipads', 'new', 'home', 'ipad', 'leopardprint', 'neon', 'ipad', 'apple']),\n",
       "       list(['iphone', 'apps', 'can', 'listen', 'drive', 'time', 'hip', 'hop', 'from', 'nyc', 'whilst', 'peeling', 'potatoes', 'kitchen']),\n",
       "       list(['dissatisfied', 'apple', 'iphonesplus', 'not', 'for', 'runners', 'has', 'issues', 'with', 'filter', 'camera', 'sweat', 'through', 'incasearmband']),\n",
       "       list(['loves', 'the', 'fuck', 'outta', 'imessage', 'iphone', 'text', 'gay', 'hesa']),\n",
       "       list(['she', 'ready', 'this', 'chromebook', 'samsung', 'hellokitty', 'diamond', 'shine', 'ready']),\n",
       "       list(['beach', 'group', 'text', 'beach', 'ocean', 'cellphone', 'friends', 'trio', 'iphone', 'karebear']),\n",
       "       list(['last', 'have', 'apple', 'watch', 'space', 'black', 'stainless', 'steel', 'excited', 'overthemoon']),\n",
       "       list(['hug', 'follow', 'like', 'iphone', 'tattoo', 'christmas', 'beautiful', 'newyork'])],\n",
       "      dtype=object)"
      ]
     },
     "execution_count": 19,
     "metadata": {},
     "output_type": "execute_result"
    }
   ],
   "source": [
    "train['tidy_tweet'].values[205:215]"
   ]
  },
  {
   "cell_type": "code",
   "execution_count": 20,
   "metadata": {},
   "outputs": [],
   "source": [
    "#removing stop words\n",
    "words=stopwords.words('english')"
   ]
  },
  {
   "cell_type": "code",
   "execution_count": 21,
   "metadata": {},
   "outputs": [],
   "source": [
    "def remove_stopwords(text):\n",
    "    word=[w for w in text if w not in words]\n",
    "    return word"
   ]
  },
  {
   "cell_type": "code",
   "execution_count": 22,
   "metadata": {},
   "outputs": [],
   "source": [
    "train['tidy_tweet']=train['tidy_tweet'].apply(lambda x:remove_stopwords(x))"
   ]
  },
  {
   "cell_type": "code",
   "execution_count": 23,
   "metadata": {},
   "outputs": [
    {
     "data": {
      "text/plain": [
       "array([list(['bad', 'doesnt', 'carry', 'lumia', 'devices', 'least', 'able', 'pick', 'samsung', 'ativ', 'neo', 'windowsphone']),\n",
       "       list(['would', 'like', 'wish', 'amazing', 'day', 'make', 'every', 'minute', 'count', 'tls', 'today', 'iphone', 'accessories', 'news', 'life', 'july']),\n",
       "       list(['ipads', 'new', 'home', 'ipad', 'leopardprint', 'neon', 'ipad', 'apple']),\n",
       "       list(['iphone', 'apps', 'listen', 'drive', 'time', 'hip', 'hop', 'nyc', 'whilst', 'peeling', 'potatoes', 'kitchen']),\n",
       "       list(['dissatisfied', 'apple', 'iphonesplus', 'runners', 'issues', 'filter', 'camera', 'sweat', 'incasearmband']),\n",
       "       list(['loves', 'fuck', 'outta', 'imessage', 'iphone', 'text', 'gay', 'hesa']),\n",
       "       list(['ready', 'chromebook', 'samsung', 'hellokitty', 'diamond', 'shine', 'ready']),\n",
       "       list(['beach', 'group', 'text', 'beach', 'ocean', 'cellphone', 'friends', 'trio', 'iphone', 'karebear']),\n",
       "       list(['last', 'apple', 'watch', 'space', 'black', 'stainless', 'steel', 'excited', 'overthemoon']),\n",
       "       list(['hug', 'follow', 'like', 'iphone', 'tattoo', 'christmas', 'beautiful', 'newyork']),\n",
       "       list(['totally', 'fuck', 'siri', 'knowledge', 'excites', 'siri', 'fuckinsiri']),\n",
       "       list(['lol', 'love', 'iphone', 'rtto', 'apple', 'fuckedup', 'iphone', 'know', 'get', 'yes', 'pow', 'via']),\n",
       "       list(['photo', 'new', 'macbook', 'air', 'installed', 'ready', 'perform', 'apple', 'pepsimax', 'ddb', 'taken']),\n",
       "       list(['throw', 'worries', 'fit', 'fab', 'marjdiary', 'samsung', 'fit', 'fabolous', 'smile', 'stayhealthy']),\n",
       "       list(['samsung', 'galaxy', 'plus', 'dual', 'sim', 'gfd', 'ram', 'black', 'florida', 'money', 'today', 'life', 'twitch', 'retweet', 'twitter', 'birthday', 'sale', 'android', 'windows', 'nokia', 'samsung', 'iphone', 'phone', 'smartphone', 'motorola', 'sony', 'offers', 'best']),\n",
       "       list(['new', 'phone', 'yes', 'please', 'without', 'phone', 'death', 'taking', 'hold', 'sony', 'sorrysamsung']),\n",
       "       list(['speed', 'wifigg', 'android', 'apps', 'unitedstate', 'cute', 'colors', 'igers', 'iphoneonly', 'guitarplayer', 'iphone']),\n",
       "       list(['samsung', 'gear', 'etat', 'comme', 'neuve', 'samsung', 'gears', 'prixhappy', 'occasion', 'cash']),\n",
       "       list(['iphone', 'would', 'trade', 'computer', 'smart', 'phone', 'galaxynote', 'sexy']),\n",
       "       list(['mac', 'hight', 'sierra', 'buggy', 'little', 'crap', 'jobsdead', 'applenofuture']),\n",
       "       list(['send', 'calendar', 'event', 'invite', 'exchange', 'user', 'user', 'cant', 'accept', 'icloud', 'exchange', 'apple', 'iphone']),\n",
       "       list(['like', 'iphone', 'get', 'play', 'games', 'lol', 'love', 'angry', 'birds', 'iphone', 'gam']),\n",
       "       list(['phone', 'keeps', 'freezing', 'whenever', 'end', 'call', 'iphone']),\n",
       "       list(['ever', 'since', 'updated', 'phone', 'fucking', 'apple', 'iphoneproblems', 'appleofficlal']),\n",
       "       list(['chicwithatwist', 'team', 'ootd', 'mixandmatch', 'urban', 'style', 'expressyourselfie', 'workshopping', 'samsung', 'galaxya'])],\n",
       "      dtype=object)"
      ]
     },
     "execution_count": 23,
     "metadata": {},
     "output_type": "execute_result"
    }
   ],
   "source": [
    "train['tidy_tweet'].values[205:230]"
   ]
  },
  {
   "cell_type": "code",
   "execution_count": 24,
   "metadata": {},
   "outputs": [],
   "source": [
    "lemmi=WordNetLemmatizer()\n",
    "def lemmitizing(text):\n",
    "    lemm_text=[lemmi.lemmatize(i) for i in text]\n",
    "    return lemm_text"
   ]
  },
  {
   "cell_type": "code",
   "execution_count": 27,
   "metadata": {},
   "outputs": [],
   "source": [
    "train['tidy_tweet']=train['tidy_tweet'].apply(lambda x:lemmitizing(x))"
   ]
  },
  {
   "cell_type": "code",
   "execution_count": 28,
   "metadata": {},
   "outputs": [
    {
     "data": {
      "text/plain": [
       "array([list(['bad', 'doesnt', 'carry', 'lumia', 'device', 'least', 'able', 'pick', 'samsung', 'ativ', 'neo', 'windowsphone']),\n",
       "       list(['would', 'like', 'wish', 'amazing', 'day', 'make', 'every', 'minute', 'count', 'tl', 'today', 'iphone', 'accessory', 'news', 'life', 'july']),\n",
       "       list(['ipads', 'new', 'home', 'ipad', 'leopardprint', 'neon', 'ipad', 'apple']),\n",
       "       list(['iphone', 'apps', 'listen', 'drive', 'time', 'hip', 'hop', 'nyc', 'whilst', 'peeling', 'potato', 'kitchen']),\n",
       "       list(['dissatisfied', 'apple', 'iphonesplus', 'runner', 'issue', 'filter', 'camera', 'sweat', 'incasearmband']),\n",
       "       list(['love', 'fuck', 'outta', 'imessage', 'iphone', 'text', 'gay', 'hesa']),\n",
       "       list(['ready', 'chromebook', 'samsung', 'hellokitty', 'diamond', 'shine', 'ready']),\n",
       "       list(['beach', 'group', 'text', 'beach', 'ocean', 'cellphone', 'friend', 'trio', 'iphone', 'karebear']),\n",
       "       list(['last', 'apple', 'watch', 'space', 'black', 'stainless', 'steel', 'excited', 'overthemoon']),\n",
       "       list(['hug', 'follow', 'like', 'iphone', 'tattoo', 'christmas', 'beautiful', 'newyork'])],\n",
       "      dtype=object)"
      ]
     },
     "execution_count": 28,
     "metadata": {},
     "output_type": "execute_result"
    }
   ],
   "source": [
    "train['tidy_tweet'].values[205:215]"
   ]
  },
  {
   "cell_type": "code",
   "execution_count": 31,
   "metadata": {},
   "outputs": [],
   "source": [
    "stemmer=PorterStemmer()\n",
    "def stemming_text(text):\n",
    "    stem_text=' '.join([stemmer.stem(i) for i in text])\n",
    "    return stem_text"
   ]
  },
  {
   "cell_type": "code",
   "execution_count": 32,
   "metadata": {},
   "outputs": [],
   "source": [
    "train['tidy_tweet']=train['tidy_tweet'].apply(lambda x:stemming_text(x))"
   ]
  },
  {
   "cell_type": "code",
   "execution_count": 33,
   "metadata": {},
   "outputs": [
    {
     "data": {
      "text/plain": [
       "array(['bad doesnt carri lumia devic least abl pick samsung ativ neo windowsphon',\n",
       "       'would like wish amaz day make everi minut count tl today iphon accessori news life juli',\n",
       "       'ipad new home ipad leopardprint neon ipad appl',\n",
       "       'iphon app listen drive time hip hop nyc whilst peel potato kitchen',\n",
       "       'dissatisfi appl iphonesplu runner issu filter camera sweat incasearmband',\n",
       "       'love fuck outta imessag iphon text gay hesa',\n",
       "       'readi chromebook samsung hellokitti diamond shine readi',\n",
       "       'beach group text beach ocean cellphon friend trio iphon karebear',\n",
       "       'last appl watch space black stainless steel excit overthemoon',\n",
       "       'hug follow like iphon tattoo christma beauti newyork'],\n",
       "      dtype=object)"
      ]
     },
     "execution_count": 33,
     "metadata": {},
     "output_type": "execute_result"
    }
   ],
   "source": [
    "train['tidy_tweet'].values[205:215]"
   ]
  },
  {
   "cell_type": "code",
   "execution_count": null,
   "metadata": {},
   "outputs": [],
   "source": []
  }
 ],
 "metadata": {
  "kernelspec": {
   "display_name": "Python 3",
   "language": "python",
   "name": "python3"
  },
  "language_info": {
   "codemirror_mode": {
    "name": "ipython",
    "version": 3
   },
   "file_extension": ".py",
   "mimetype": "text/x-python",
   "name": "python",
   "nbconvert_exporter": "python",
   "pygments_lexer": "ipython3",
   "version": "3.7.3"
  }
 },
 "nbformat": 4,
 "nbformat_minor": 2
}
